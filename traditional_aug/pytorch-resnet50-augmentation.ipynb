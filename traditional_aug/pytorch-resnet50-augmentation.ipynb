{
 "cells": [
  {
   "cell_type": "code",
   "execution_count": 1,
   "id": "424d85f9",
   "metadata": {
    "execution": {
     "iopub.execute_input": "2022-11-20T15:11:37.262707Z",
     "iopub.status.busy": "2022-11-20T15:11:37.261870Z",
     "iopub.status.idle": "2022-11-20T15:11:40.680190Z",
     "shell.execute_reply": "2022-11-20T15:11:40.679227Z"
    },
    "papermill": {
     "duration": 3.431195,
     "end_time": "2022-11-20T15:11:40.683109",
     "exception": false,
     "start_time": "2022-11-20T15:11:37.251914",
     "status": "completed"
    },
    "tags": []
   },
   "outputs": [],
   "source": [
    "%matplotlib inline\n",
    "from copy import deepcopy\n",
    "from collections import OrderedDict\n",
    "import gc\n",
    "\n",
    "\n",
    "import numpy as np\n",
    "import pandas as pd\n",
    "import torch\n",
    "import torch.nn as nn\n",
    "import torch.nn.functional as F\n",
    "from torch.optim import SGD,Adam,lr_scheduler\n",
    "from torch.utils.data import random_split\n",
    "import torchvision\n",
    "from torchvision import transforms,models\n",
    "import os\n",
    "import albumentations as A\n",
    "from albumentations.pytorch import ToTensorV2\n",
    "import cv2"
   ]
  },
  {
   "cell_type": "code",
   "execution_count": 2,
   "id": "e7cd4dcf",
   "metadata": {
    "execution": {
     "iopub.execute_input": "2022-11-20T15:11:40.699692Z",
     "iopub.status.busy": "2022-11-20T15:11:40.698564Z",
     "iopub.status.idle": "2022-11-20T15:12:12.942580Z",
     "shell.execute_reply": "2022-11-20T15:12:12.941631Z"
    },
    "papermill": {
     "duration": 32.25444,
     "end_time": "2022-11-20T15:12:12.945066",
     "exception": false,
     "start_time": "2022-11-20T15:11:40.690626",
     "status": "completed"
    },
    "tags": []
   },
   "outputs": [
    {
     "name": "stdout",
     "output_type": "stream",
     "text": [
      "Downloading https://www.cs.toronto.edu/~kriz/cifar-10-python.tar.gz to ./train/cifar-10-python.tar.gz\n"
     ]
    },
    {
     "data": {
      "application/vnd.jupyter.widget-view+json": {
       "model_id": "870904c07b4544759e404eae6cf4cea0",
       "version_major": 2,
       "version_minor": 0
      },
      "text/plain": [
       "  0%|          | 0/170498071 [00:00<?, ?it/s]"
      ]
     },
     "metadata": {},
     "output_type": "display_data"
    },
    {
     "name": "stdout",
     "output_type": "stream",
     "text": [
      "Extracting ./train/cifar-10-python.tar.gz to ./train\n",
      "Downloading https://www.cs.toronto.edu/~kriz/cifar-10-python.tar.gz to ./test/cifar-10-python.tar.gz\n"
     ]
    },
    {
     "data": {
      "application/vnd.jupyter.widget-view+json": {
       "model_id": "a7d495d717f14bf48abe38e669a20d9a",
       "version_major": 2,
       "version_minor": 0
      },
      "text/plain": [
       "  0%|          | 0/170498071 [00:00<?, ?it/s]"
      ]
     },
     "metadata": {},
     "output_type": "display_data"
    },
    {
     "name": "stdout",
     "output_type": "stream",
     "text": [
      "Extracting ./test/cifar-10-python.tar.gz to ./test\n"
     ]
    }
   ],
   "source": [
    "trainset= torchvision.datasets.CIFAR10(root='./train', train=True,download=True)\n",
    "testset = torchvision.datasets.CIFAR10(root='./test', train=False,download=True)\n",
    "classes = ('plane', 'car', 'bird', 'cat','deer', 'dog', 'frog', 'horse', 'ship', 'truck')"
   ]
  },
  {
   "cell_type": "code",
   "execution_count": 3,
   "id": "e7b99835",
   "metadata": {
    "execution": {
     "iopub.execute_input": "2022-11-20T15:12:12.961419Z",
     "iopub.status.busy": "2022-11-20T15:12:12.961108Z",
     "iopub.status.idle": "2022-11-20T15:12:12.969318Z",
     "shell.execute_reply": "2022-11-20T15:12:12.968479Z"
    },
    "papermill": {
     "duration": 0.018441,
     "end_time": "2022-11-20T15:12:12.971268",
     "exception": false,
     "start_time": "2022-11-20T15:12:12.952827",
     "status": "completed"
    },
    "tags": []
   },
   "outputs": [],
   "source": [
    "valset,trainset= random_split(trainset,[10000,40000])"
   ]
  },
  {
   "cell_type": "code",
   "execution_count": 4,
   "id": "fb2d41ec",
   "metadata": {
    "execution": {
     "iopub.execute_input": "2022-11-20T15:12:12.987033Z",
     "iopub.status.busy": "2022-11-20T15:12:12.986772Z",
     "iopub.status.idle": "2022-11-20T15:12:12.994567Z",
     "shell.execute_reply": "2022-11-20T15:12:12.993657Z"
    },
    "papermill": {
     "duration": 0.017892,
     "end_time": "2022-11-20T15:12:12.996500",
     "exception": false,
     "start_time": "2022-11-20T15:12:12.978608",
     "status": "completed"
    },
    "tags": []
   },
   "outputs": [
    {
     "data": {
      "text/plain": [
       "(<PIL.Image.Image image mode=RGB size=32x32>, 7)"
      ]
     },
     "execution_count": 4,
     "metadata": {},
     "output_type": "execute_result"
    }
   ],
   "source": [
    "trainset[1]"
   ]
  },
  {
   "cell_type": "code",
   "execution_count": 5,
   "id": "f0959052",
   "metadata": {
    "execution": {
     "iopub.execute_input": "2022-11-20T15:12:13.014293Z",
     "iopub.status.busy": "2022-11-20T15:12:13.013424Z",
     "iopub.status.idle": "2022-11-20T15:12:13.019691Z",
     "shell.execute_reply": "2022-11-20T15:12:13.018749Z"
    },
    "papermill": {
     "duration": 0.016276,
     "end_time": "2022-11-20T15:12:13.021567",
     "exception": false,
     "start_time": "2022-11-20T15:12:13.005291",
     "status": "completed"
    },
    "tags": []
   },
   "outputs": [
    {
     "data": {
      "text/plain": [
       "(<PIL.Image.Image image mode=RGB size=32x32>, 8)"
      ]
     },
     "execution_count": 5,
     "metadata": {},
     "output_type": "execute_result"
    }
   ],
   "source": [
    "testset[1]"
   ]
  },
  {
   "cell_type": "code",
   "execution_count": 6,
   "id": "1d4e3c7b",
   "metadata": {
    "execution": {
     "iopub.execute_input": "2022-11-20T15:12:13.038478Z",
     "iopub.status.busy": "2022-11-20T15:12:13.037717Z",
     "iopub.status.idle": "2022-11-20T15:12:13.045608Z",
     "shell.execute_reply": "2022-11-20T15:12:13.044663Z"
    },
    "papermill": {
     "duration": 0.018353,
     "end_time": "2022-11-20T15:12:13.047448",
     "exception": false,
     "start_time": "2022-11-20T15:12:13.029095",
     "status": "completed"
    },
    "tags": []
   },
   "outputs": [
    {
     "data": {
      "text/plain": [
       "array([[[ 94, 138, 173],\n",
       "        [ 94, 138, 173],\n",
       "        [ 95, 139, 173],\n",
       "        ...,\n",
       "        [ 95, 141, 175],\n",
       "        [ 95, 142, 175],\n",
       "        [ 95, 143, 177]],\n",
       "\n",
       "       [[ 94, 140, 174],\n",
       "        [ 96, 141, 175],\n",
       "        [ 97, 142, 176],\n",
       "        ...,\n",
       "        [ 98, 145, 179],\n",
       "        [ 98, 146, 179],\n",
       "        [ 97, 147, 180]],\n",
       "\n",
       "       [[ 94, 140, 173],\n",
       "        [ 94, 140, 173],\n",
       "        [ 96, 141, 174],\n",
       "        ...,\n",
       "        [ 99, 146, 179],\n",
       "        [ 99, 146, 179],\n",
       "        [ 98, 147, 179]],\n",
       "\n",
       "       ...,\n",
       "\n",
       "       [[ 60,  52,  46],\n",
       "        [ 34,  31,  29],\n",
       "        [ 19,  19,  20],\n",
       "        ...,\n",
       "        [ 67,  52,  46],\n",
       "        [ 65,  51,  45],\n",
       "        [ 63,  49,  42]],\n",
       "\n",
       "       [[ 66,  56,  49],\n",
       "        [ 45,  40,  36],\n",
       "        [ 24,  24,  23],\n",
       "        ...,\n",
       "        [ 83,  66,  56],\n",
       "        [ 81,  65,  56],\n",
       "        [ 81,  65,  55]],\n",
       "\n",
       "       [[ 68,  58,  50],\n",
       "        [ 54,  47,  41],\n",
       "        [ 31,  27,  25],\n",
       "        ...,\n",
       "        [ 88,  71,  58],\n",
       "        [ 87,  70,  58],\n",
       "        [ 91,  73,  60]]], dtype=uint8)"
      ]
     },
     "execution_count": 6,
     "metadata": {},
     "output_type": "execute_result"
    }
   ],
   "source": [
    "#转化为numpy数组查看结果\n",
    "image = np.array(trainset[1][0])\n",
    "image"
   ]
  },
  {
   "cell_type": "code",
   "execution_count": 7,
   "id": "40fd25b9",
   "metadata": {
    "execution": {
     "iopub.execute_input": "2022-11-20T15:12:13.063858Z",
     "iopub.status.busy": "2022-11-20T15:12:13.063334Z",
     "iopub.status.idle": "2022-11-20T15:12:13.071360Z",
     "shell.execute_reply": "2022-11-20T15:12:13.070414Z"
    },
    "papermill": {
     "duration": 0.018231,
     "end_time": "2022-11-20T15:12:13.073241",
     "exception": false,
     "start_time": "2022-11-20T15:12:13.055010",
     "status": "completed"
    },
    "tags": []
   },
   "outputs": [
    {
     "data": {
      "text/plain": [
       "array([[[ 63,  56,  50],\n",
       "        [ 64,  57,  51],\n",
       "        [ 64,  57,  51],\n",
       "        ...,\n",
       "        [ 71,  66,  60],\n",
       "        [ 69,  64,  58],\n",
       "        [ 66,  62,  56]],\n",
       "\n",
       "       [[ 67,  60,  54],\n",
       "        [ 66,  59,  53],\n",
       "        [ 70,  63,  57],\n",
       "        ...,\n",
       "        [ 75,  70,  64],\n",
       "        [ 73,  68,  62],\n",
       "        [ 71,  67,  61]],\n",
       "\n",
       "       [[ 69,  62,  56],\n",
       "        [ 69,  62,  56],\n",
       "        [ 73,  66,  60],\n",
       "        ...,\n",
       "        [ 78,  73,  67],\n",
       "        [ 76,  71,  65],\n",
       "        [ 74,  69,  63]],\n",
       "\n",
       "       ...,\n",
       "\n",
       "       [[ 90,  83,  77],\n",
       "        [ 94,  87,  81],\n",
       "        [ 98,  91,  85],\n",
       "        ...,\n",
       "        [ 74,  66,  63],\n",
       "        [ 98,  90,  87],\n",
       "        [102,  95,  91]],\n",
       "\n",
       "       [[ 98,  91,  85],\n",
       "        [ 98,  91,  85],\n",
       "        [109, 102,  96],\n",
       "        ...,\n",
       "        [ 78,  70,  67],\n",
       "        [ 96,  87,  85],\n",
       "        [109, 102,  98]],\n",
       "\n",
       "       [[ 91,  84,  78],\n",
       "        [102,  95,  89],\n",
       "        [109, 102,  96],\n",
       "        ...,\n",
       "        [ 85,  78,  74],\n",
       "        [ 94,  87,  83],\n",
       "        [105,  98,  95]]], dtype=uint8)"
      ]
     },
     "execution_count": 7,
     "metadata": {},
     "output_type": "execute_result"
    }
   ],
   "source": [
    "image = np.array(valset[1][0])\n",
    "image"
   ]
  },
  {
   "cell_type": "code",
   "execution_count": 8,
   "id": "7b42f0ea",
   "metadata": {
    "execution": {
     "iopub.execute_input": "2022-11-20T15:12:13.090185Z",
     "iopub.status.busy": "2022-11-20T15:12:13.089366Z",
     "iopub.status.idle": "2022-11-20T15:12:13.096223Z",
     "shell.execute_reply": "2022-11-20T15:12:13.095399Z"
    },
    "papermill": {
     "duration": 0.017196,
     "end_time": "2022-11-20T15:12:13.098174",
     "exception": false,
     "start_time": "2022-11-20T15:12:13.080978",
     "status": "completed"
    },
    "tags": []
   },
   "outputs": [
    {
     "data": {
      "text/plain": [
       "array([[[235, 235, 235],\n",
       "        [231, 231, 231],\n",
       "        [232, 232, 232],\n",
       "        ...,\n",
       "        [233, 233, 233],\n",
       "        [233, 233, 233],\n",
       "        [232, 232, 232]],\n",
       "\n",
       "       [[238, 238, 238],\n",
       "        [235, 235, 235],\n",
       "        [235, 235, 235],\n",
       "        ...,\n",
       "        [236, 236, 236],\n",
       "        [236, 236, 236],\n",
       "        [235, 235, 235]],\n",
       "\n",
       "       [[237, 237, 237],\n",
       "        [234, 234, 234],\n",
       "        [234, 234, 234],\n",
       "        ...,\n",
       "        [235, 235, 235],\n",
       "        [235, 235, 235],\n",
       "        [234, 234, 234]],\n",
       "\n",
       "       ...,\n",
       "\n",
       "       [[ 87,  99,  89],\n",
       "        [ 43,  51,  37],\n",
       "        [ 19,  23,  11],\n",
       "        ...,\n",
       "        [169, 184, 179],\n",
       "        [182, 197, 193],\n",
       "        [188, 202, 201]],\n",
       "\n",
       "       [[ 82,  96,  82],\n",
       "        [ 46,  57,  36],\n",
       "        [ 36,  44,  22],\n",
       "        ...,\n",
       "        [174, 189, 183],\n",
       "        [185, 200, 196],\n",
       "        [187, 202, 200]],\n",
       "\n",
       "       [[ 85, 101,  83],\n",
       "        [ 62,  75,  48],\n",
       "        [ 58,  67,  38],\n",
       "        ...,\n",
       "        [168, 183, 178],\n",
       "        [180, 195, 191],\n",
       "        [186, 200, 199]]], dtype=uint8)"
      ]
     },
     "execution_count": 8,
     "metadata": {},
     "output_type": "execute_result"
    }
   ],
   "source": [
    "image = np.array(testset[1][0])\n",
    "image"
   ]
  },
  {
   "cell_type": "code",
   "execution_count": 9,
   "id": "4c95ac0b",
   "metadata": {
    "execution": {
     "iopub.execute_input": "2022-11-20T15:12:13.115242Z",
     "iopub.status.busy": "2022-11-20T15:12:13.114407Z",
     "iopub.status.idle": "2022-11-20T15:12:13.325889Z",
     "shell.execute_reply": "2022-11-20T15:12:13.324865Z"
    },
    "papermill": {
     "duration": 0.221983,
     "end_time": "2022-11-20T15:12:13.327936",
     "exception": false,
     "start_time": "2022-11-20T15:12:13.105953",
     "status": "completed"
    },
    "tags": []
   },
   "outputs": [
    {
     "data": {
      "text/plain": [
       "<matplotlib.image.AxesImage at 0x7f1150353b10>"
      ]
     },
     "execution_count": 9,
     "metadata": {},
     "output_type": "execute_result"
    },
    {
     "data": {
      "image/png": "[encoded data removed]",
      "text/plain": [
       "<Figure size 432x288 with 1 Axes>"
      ]
     },
     "metadata": {
      "needs_background": "light"
     },
     "output_type": "display_data"
    }
   ],
   "source": [
    "#原图训练集第一张\n",
    "image = np.array(trainset[1][0])\n",
    "import matplotlib.pyplot as plt\n",
    "plt.imshow(image)"
   ]
  },
  {
   "cell_type": "code",
   "execution_count": 10,
   "id": "75f3a4f9",
   "metadata": {
    "execution": {
     "iopub.execute_input": "2022-11-20T15:12:13.347389Z",
     "iopub.status.busy": "2022-11-20T15:12:13.345734Z",
     "iopub.status.idle": "2022-11-20T15:12:13.540663Z",
     "shell.execute_reply": "2022-11-20T15:12:13.539786Z"
    },
    "papermill": {
     "duration": 0.206491,
     "end_time": "2022-11-20T15:12:13.542936",
     "exception": false,
     "start_time": "2022-11-20T15:12:13.336445",
     "status": "completed"
    },
    "tags": []
   },
   "outputs": [
    {
     "data": {
      "text/plain": [
       "<matplotlib.image.AxesImage at 0x7f11501a4810>"
      ]
     },
     "execution_count": 10,
     "metadata": {},
     "output_type": "execute_result"
    },
    {
     "data": {
      "image/png": "[encoded data removed]",
      "text/plain": [
       "<Figure size 432x288 with 1 Axes>"
      ]
     },
     "metadata": {
      "needs_background": "light"
     },
     "output_type": "display_data"
    }
   ],
   "source": [
    "image = np.array(valset[1][0])\n",
    "plt.imshow(image)"
   ]
  },
  {
   "cell_type": "code",
   "execution_count": 11,
   "id": "fbe52afc",
   "metadata": {
    "execution": {
     "iopub.execute_input": "2022-11-20T15:12:13.561582Z",
     "iopub.status.busy": "2022-11-20T15:12:13.561261Z",
     "iopub.status.idle": "2022-11-20T15:12:13.755790Z",
     "shell.execute_reply": "2022-11-20T15:12:13.754833Z"
    },
    "papermill": {
     "duration": 0.206122,
     "end_time": "2022-11-20T15:12:13.757772",
     "exception": false,
     "start_time": "2022-11-20T15:12:13.551650",
     "status": "completed"
    },
    "tags": []
   },
   "outputs": [
    {
     "data": {
      "text/plain": [
       "<matplotlib.image.AxesImage at 0x7f1150137790>"
      ]
     },
     "execution_count": 11,
     "metadata": {},
     "output_type": "execute_result"
    },
    {
     "data": {
      "image/png": "[encoded data removed]",
      "text/plain": [
       "<Figure size 432x288 with 1 Axes>"
      ]
     },
     "metadata": {
      "needs_background": "light"
     },
     "output_type": "display_data"
    }
   ],
   "source": [
    "#测试集第一张\n",
    "image = np.array(testset[1][0])\n",
    "plt.imshow(image)"
   ]
  },
  {
   "cell_type": "code",
   "execution_count": 12,
   "id": "86e96c6a",
   "metadata": {
    "execution": {
     "iopub.execute_input": "2022-11-20T15:12:13.777413Z",
     "iopub.status.busy": "2022-11-20T15:12:13.776670Z",
     "iopub.status.idle": "2022-11-20T15:12:13.782262Z",
     "shell.execute_reply": "2022-11-20T15:12:13.781299Z"
    },
    "papermill": {
     "duration": 0.017292,
     "end_time": "2022-11-20T15:12:13.784181",
     "exception": false,
     "start_time": "2022-11-20T15:12:13.766889",
     "status": "completed"
    },
    "tags": []
   },
   "outputs": [],
   "source": [
    "import albumentations as albu\n",
    "\n",
    "\n",
    "def augment_image(augmentation, image):\n",
    "    \n",
    "    \"\"\"\n",
    "    Uses the Albumentations library.\n",
    "    \n",
    "    Inputs: \n",
    "    1. augmentation - this is the instance of type of augmentation to do \n",
    "    e.g. aug_type = HorizontalFlip(p=1) \n",
    "    # p=1 is the probability of the transform being executed.\n",
    "    \n",
    "    2. image - image with shape (h,w)\n",
    "    \n",
    "    Output:\n",
    "    Augmented image as a numpy array.\n",
    "    \n",
    "    \"\"\"\n",
    "    # get the transform as a dict\n",
    "    aug_image_dict =  augmentation(image=image)\n",
    "    # retrieve the augmented matrix of the image\n",
    "    image_matrix = aug_image_dict['image']\n",
    "    return image_matrix"
   ]
  },
  {
   "cell_type": "code",
   "execution_count": 13,
   "id": "22c3e347",
   "metadata": {
    "execution": {
     "iopub.execute_input": "2022-11-20T15:12:13.804042Z",
     "iopub.status.busy": "2022-11-20T15:12:13.803284Z",
     "iopub.status.idle": "2022-11-20T15:12:13.812050Z",
     "shell.execute_reply": "2022-11-20T15:12:13.811215Z"
    },
    "papermill": {
     "duration": 0.020977,
     "end_time": "2022-11-20T15:12:13.813933",
     "exception": false,
     "start_time": "2022-11-20T15:12:13.792956",
     "status": "completed"
    },
    "tags": []
   },
   "outputs": [],
   "source": [
    "aug_types1 = albu.ShiftScaleRotate(shift_limit=0.0625, scale_limit=0.1, rotate_limit=45, \n",
    "                  interpolation=1, border_mode=4, value=None, mask_value=None, \n",
    "                  shift_limit_x=None, shift_limit_y=None, always_apply=False, \n",
    "                  p=1)\n",
    "\n",
    "aug_types2 = albu.Flip(p=1)\n",
    "\n",
    "aug_types3 = albu.ShiftScaleRotate(shift_limit=0.0625, scale_limit=0.1, rotate_limit=20, \n",
    "                  interpolation=1, border_mode=4, value=None, mask_value=None, \n",
    "                  shift_limit_x=None, shift_limit_y=None, always_apply=False, \n",
    "                  p=1)\n",
    "\n",
    "aug_types4 = albu.Blur(blur_limit=(3,3.5), always_apply=False, p=1)\n",
    "\n",
    "aug_types5 = albu.OneOf([\n",
    "                albu.ElasticTransform(alpha=1, sigma=50, alpha_affine=50,\n",
    "                                       interpolation=1, border_mode=4, value=None,mask_value=None,\n",
    "                                       always_apply=False, approximate=False, p=1),\n",
    "                albu.GridDistortion(num_steps=5, distort_limit=0.3, interpolation=1, border_mode=4, \n",
    "                                 value=None, mask_value=None, always_apply=False, p=1)\n",
    "                        ], p=1)"
   ]
  },
  {
   "cell_type": "code",
   "execution_count": 14,
   "id": "db221ba9",
   "metadata": {
    "execution": {
     "iopub.execute_input": "2022-11-20T15:12:13.832611Z",
     "iopub.status.busy": "2022-11-20T15:12:13.831841Z",
     "iopub.status.idle": "2022-11-20T15:13:34.730987Z",
     "shell.execute_reply": "2022-11-20T15:13:34.729863Z"
    },
    "papermill": {
     "duration": 80.911135,
     "end_time": "2022-11-20T15:13:34.733615",
     "exception": false,
     "start_time": "2022-11-20T15:12:13.822480",
     "status": "completed"
    },
    "tags": []
   },
   "outputs": [],
   "source": [
    "import numpy as np\n",
    "X_train = np.zeros((6*len(trainset),32,32,3))\n",
    "labels=[]\n",
    "for i in range(len(trainset)): \n",
    "    image=trainset[i][0]\n",
    "    image = np.array(image)\n",
    "    \n",
    "    labels.append(trainset[i][1])\n",
    "    X_train[i]=image\n",
    "    X_train[i+1*len(trainset)] = augment_image(aug_types1, image)\n",
    "    X_train[i+2*len(trainset)] = augment_image(aug_types2, image)\n",
    "    X_train[i+3*len(trainset)] = augment_image(aug_types3, image)\n",
    "    X_train[i+4*len(trainset)] = augment_image(aug_types4, image)\n",
    "    X_train[i+5*len(trainset)] = augment_image(aug_types5, image)"
   ]
  },
  {
   "cell_type": "code",
   "execution_count": 15,
   "id": "4dbaa8b9",
   "metadata": {
    "execution": {
     "iopub.execute_input": "2022-11-20T15:13:34.752664Z",
     "iopub.status.busy": "2022-11-20T15:13:34.752351Z",
     "iopub.status.idle": "2022-11-20T15:13:34.771633Z",
     "shell.execute_reply": "2022-11-20T15:13:34.770755Z"
    },
    "papermill": {
     "duration": 0.030747,
     "end_time": "2022-11-20T15:13:34.773552",
     "exception": false,
     "start_time": "2022-11-20T15:13:34.742805",
     "status": "completed"
    },
    "tags": []
   },
   "outputs": [],
   "source": [
    "import pandas as pd\n",
    "y_train = np.concatenate([labels, labels, labels, labels, labels, labels],axis=0)"
   ]
  },
  {
   "cell_type": "code",
   "execution_count": 16,
   "id": "218276a3",
   "metadata": {
    "execution": {
     "iopub.execute_input": "2022-11-20T15:13:34.793426Z",
     "iopub.status.busy": "2022-11-20T15:13:34.791851Z",
     "iopub.status.idle": "2022-11-20T15:13:34.798574Z",
     "shell.execute_reply": "2022-11-20T15:13:34.797580Z"
    },
    "papermill": {
     "duration": 0.018794,
     "end_time": "2022-11-20T15:13:34.800852",
     "exception": false,
     "start_time": "2022-11-20T15:13:34.782058",
     "status": "completed"
    },
    "tags": []
   },
   "outputs": [
    {
     "data": {
      "text/plain": [
       "dtype('float64')"
      ]
     },
     "execution_count": 16,
     "metadata": {},
     "output_type": "execute_result"
    }
   ],
   "source": [
    "X_train[1].dtype"
   ]
  },
  {
   "cell_type": "code",
   "execution_count": 17,
   "id": "77697d30",
   "metadata": {
    "execution": {
     "iopub.execute_input": "2022-11-20T15:13:34.819870Z",
     "iopub.status.busy": "2022-11-20T15:13:34.819092Z",
     "iopub.status.idle": "2022-11-20T15:13:34.826388Z",
     "shell.execute_reply": "2022-11-20T15:13:34.825422Z"
    },
    "papermill": {
     "duration": 0.018771,
     "end_time": "2022-11-20T15:13:34.828362",
     "exception": false,
     "start_time": "2022-11-20T15:13:34.809591",
     "status": "completed"
    },
    "tags": []
   },
   "outputs": [
    {
     "data": {
      "text/plain": [
       "array([[[ 94., 138., 173.],\n",
       "        [ 94., 138., 173.],\n",
       "        [ 95., 139., 173.],\n",
       "        ...,\n",
       "        [ 95., 141., 175.],\n",
       "        [ 95., 142., 175.],\n",
       "        [ 95., 143., 177.]],\n",
       "\n",
       "       [[ 94., 140., 174.],\n",
       "        [ 96., 141., 175.],\n",
       "        [ 97., 142., 176.],\n",
       "        ...,\n",
       "        [ 98., 145., 179.],\n",
       "        [ 98., 146., 179.],\n",
       "        [ 97., 147., 180.]],\n",
       "\n",
       "       [[ 94., 140., 173.],\n",
       "        [ 94., 140., 173.],\n",
       "        [ 96., 141., 174.],\n",
       "        ...,\n",
       "        [ 99., 146., 179.],\n",
       "        [ 99., 146., 179.],\n",
       "        [ 98., 147., 179.]],\n",
       "\n",
       "       ...,\n",
       "\n",
       "       [[ 60.,  52.,  46.],\n",
       "        [ 34.,  31.,  29.],\n",
       "        [ 19.,  19.,  20.],\n",
       "        ...,\n",
       "        [ 67.,  52.,  46.],\n",
       "        [ 65.,  51.,  45.],\n",
       "        [ 63.,  49.,  42.]],\n",
       "\n",
       "       [[ 66.,  56.,  49.],\n",
       "        [ 45.,  40.,  36.],\n",
       "        [ 24.,  24.,  23.],\n",
       "        ...,\n",
       "        [ 83.,  66.,  56.],\n",
       "        [ 81.,  65.,  56.],\n",
       "        [ 81.,  65.,  55.]],\n",
       "\n",
       "       [[ 68.,  58.,  50.],\n",
       "        [ 54.,  47.,  41.],\n",
       "        [ 31.,  27.,  25.],\n",
       "        ...,\n",
       "        [ 88.,  71.,  58.],\n",
       "        [ 87.,  70.,  58.],\n",
       "        [ 91.,  73.,  60.]]])"
      ]
     },
     "execution_count": 17,
     "metadata": {},
     "output_type": "execute_result"
    }
   ],
   "source": [
    "X_train[1]"
   ]
  },
  {
   "cell_type": "code",
   "execution_count": 18,
   "id": "59e2f258",
   "metadata": {
    "execution": {
     "iopub.execute_input": "2022-11-20T15:13:34.847641Z",
     "iopub.status.busy": "2022-11-20T15:13:34.846902Z",
     "iopub.status.idle": "2022-11-20T15:13:35.043284Z",
     "shell.execute_reply": "2022-11-20T15:13:35.042415Z"
    },
    "papermill": {
     "duration": 0.208381,
     "end_time": "2022-11-20T15:13:35.045582",
     "exception": false,
     "start_time": "2022-11-20T15:13:34.837201",
     "status": "completed"
    },
    "tags": []
   },
   "outputs": [
    {
     "data": {
      "text/plain": [
       "<matplotlib.image.AxesImage at 0x7f11500ae990>"
      ]
     },
     "execution_count": 18,
     "metadata": {},
     "output_type": "execute_result"
    },
    {
     "data": {
      "image/png": "[encoded data removed]",
      "text/plain": [
       "<Figure size 432x288 with 1 Axes>"
      ]
     },
     "metadata": {
      "needs_background": "light"
     },
     "output_type": "display_data"
    }
   ],
   "source": [
    "z_new = X_train[1].astype(np.int32)\n",
    " \n",
    "plt.imshow(z_new)\n"
   ]
  },
  {
   "cell_type": "code",
   "execution_count": 19,
   "id": "ed7041e0",
   "metadata": {
    "execution": {
     "iopub.execute_input": "2022-11-20T15:13:35.065914Z",
     "iopub.status.busy": "2022-11-20T15:13:35.065613Z",
     "iopub.status.idle": "2022-11-20T15:13:35.260228Z",
     "shell.execute_reply": "2022-11-20T15:13:35.259560Z"
    },
    "papermill": {
     "duration": 0.2072,
     "end_time": "2022-11-20T15:13:35.262211",
     "exception": false,
     "start_time": "2022-11-20T15:13:35.055011",
     "status": "completed"
    },
    "tags": []
   },
   "outputs": [
    {
     "data": {
      "text/plain": [
       "<matplotlib.image.AxesImage at 0x7f0fe3457210>"
      ]
     },
     "execution_count": 19,
     "metadata": {},
     "output_type": "execute_result"
    },
    {
     "data": {
      "image/png": "[encoded data removed]",
      "text/plain": [
       "<Figure size 432x288 with 1 Axes>"
      ]
     },
     "metadata": {
      "needs_background": "light"
     },
     "output_type": "display_data"
    }
   ],
   "source": [
    "z_new = X_train[40001].astype(np.int32)\n",
    " \n",
    "plt.imshow(z_new)"
   ]
  },
  {
   "cell_type": "code",
   "execution_count": 20,
   "id": "bf66e7fa",
   "metadata": {
    "execution": {
     "iopub.execute_input": "2022-11-20T15:13:35.284024Z",
     "iopub.status.busy": "2022-11-20T15:13:35.282434Z",
     "iopub.status.idle": "2022-11-20T15:13:35.477503Z",
     "shell.execute_reply": "2022-11-20T15:13:35.476575Z"
    },
    "papermill": {
     "duration": 0.207579,
     "end_time": "2022-11-20T15:13:35.479559",
     "exception": false,
     "start_time": "2022-11-20T15:13:35.271980",
     "status": "completed"
    },
    "tags": []
   },
   "outputs": [
    {
     "data": {
      "text/plain": [
       "<matplotlib.image.AxesImage at 0x7f0fe33da2d0>"
      ]
     },
     "execution_count": 20,
     "metadata": {},
     "output_type": "execute_result"
    },
    {
     "data": {
      "image/png": "[encoded data removed]",
      "text/plain": [
       "<Figure size 432x288 with 1 Axes>"
      ]
     },
     "metadata": {
      "needs_background": "light"
     },
     "output_type": "display_data"
    }
   ],
   "source": [
    "z_new = X_train[80001].astype(np.int32)\n",
    " \n",
    "plt.imshow(z_new)"
   ]
  },
  {
   "cell_type": "code",
   "execution_count": 21,
   "id": "725699e0",
   "metadata": {
    "execution": {
     "iopub.execute_input": "2022-11-20T15:13:35.502143Z",
     "iopub.status.busy": "2022-11-20T15:13:35.500465Z",
     "iopub.status.idle": "2022-11-20T15:13:35.699430Z",
     "shell.execute_reply": "2022-11-20T15:13:35.698550Z"
    },
    "papermill": {
     "duration": 0.211946,
     "end_time": "2022-11-20T15:13:35.701548",
     "exception": false,
     "start_time": "2022-11-20T15:13:35.489602",
     "status": "completed"
    },
    "tags": []
   },
   "outputs": [
    {
     "data": {
      "text/plain": [
       "<matplotlib.image.AxesImage at 0x7f0fe3359c10>"
      ]
     },
     "execution_count": 21,
     "metadata": {},
     "output_type": "execute_result"
    },
    {
     "data": {
      "image/png": "[encoded data removed]",
      "text/plain": [
       "<Figure size 432x288 with 1 Axes>"
      ]
     },
     "metadata": {
      "needs_background": "light"
     },
     "output_type": "display_data"
    }
   ],
   "source": [
    "z_new = X_train[120001].astype(np.int32)\n",
    " \n",
    "plt.imshow(z_new)"
   ]
  },
  {
   "cell_type": "code",
   "execution_count": 22,
   "id": "a38efa49",
   "metadata": {
    "execution": {
     "iopub.execute_input": "2022-11-20T15:13:35.723725Z",
     "iopub.status.busy": "2022-11-20T15:13:35.723052Z",
     "iopub.status.idle": "2022-11-20T15:13:35.915359Z",
     "shell.execute_reply": "2022-11-20T15:13:35.914133Z"
    },
    "papermill": {
     "duration": 0.205702,
     "end_time": "2022-11-20T15:13:35.917594",
     "exception": false,
     "start_time": "2022-11-20T15:13:35.711892",
     "status": "completed"
    },
    "tags": []
   },
   "outputs": [
    {
     "data": {
      "text/plain": [
       "<matplotlib.image.AxesImage at 0x7f0fe32e6190>"
      ]
     },
     "execution_count": 22,
     "metadata": {},
     "output_type": "execute_result"
    },
    {
     "data": {
      "image/png": "[encoded data removed]",
      "text/plain": [
       "<Figure size 432x288 with 1 Axes>"
      ]
     },
     "metadata": {
      "needs_background": "light"
     },
     "output_type": "display_data"
    }
   ],
   "source": [
    "z_new = X_train[160001].astype(np.int32)\n",
    " \n",
    "plt.imshow(z_new)"
   ]
  },
  {
   "cell_type": "code",
   "execution_count": 23,
   "id": "0d56125b",
   "metadata": {
    "execution": {
     "iopub.execute_input": "2022-11-20T15:13:35.940140Z",
     "iopub.status.busy": "2022-11-20T15:13:35.939847Z",
     "iopub.status.idle": "2022-11-20T15:13:36.133755Z",
     "shell.execute_reply": "2022-11-20T15:13:36.132831Z"
    },
    "papermill": {
     "duration": 0.207481,
     "end_time": "2022-11-20T15:13:36.135751",
     "exception": false,
     "start_time": "2022-11-20T15:13:35.928270",
     "status": "completed"
    },
    "tags": []
   },
   "outputs": [
    {
     "data": {
      "text/plain": [
       "<matplotlib.image.AxesImage at 0x7f0fe3265b10>"
      ]
     },
     "execution_count": 23,
     "metadata": {},
     "output_type": "execute_result"
    },
    {
     "data": {
      "image/png": "[encoded data removed]",
      "text/plain": [
       "<Figure size 432x288 with 1 Axes>"
      ]
     },
     "metadata": {
      "needs_background": "light"
     },
     "output_type": "display_data"
    }
   ],
   "source": [
    "z_new = X_train[200001].astype(np.int32)\n",
    " \n",
    "plt.imshow(z_new)"
   ]
  },
  {
   "cell_type": "code",
   "execution_count": 24,
   "id": "79642cc9",
   "metadata": {
    "execution": {
     "iopub.execute_input": "2022-11-20T15:13:36.158794Z",
     "iopub.status.busy": "2022-11-20T15:13:36.158269Z",
     "iopub.status.idle": "2022-11-20T15:13:36.164912Z",
     "shell.execute_reply": "2022-11-20T15:13:36.164291Z"
    },
    "papermill": {
     "duration": 0.020004,
     "end_time": "2022-11-20T15:13:36.166640",
     "exception": false,
     "start_time": "2022-11-20T15:13:36.146636",
     "status": "completed"
    },
    "tags": []
   },
   "outputs": [],
   "source": [
    "\n",
    "class AlbumentationsDataset_train():\n",
    "    \"\"\"__init__ and __len__ functions are the same as in TorchvisionDataset\"\"\"\n",
    "    def __init__(self, labels,dataset):\n",
    "        \n",
    "        self.labels = labels\n",
    "        self.dataset= dataset\n",
    "        \n",
    "    def __len__(self):\n",
    "        return len(self.labels)\n",
    "\n",
    "    def __getitem__(self, idx):\n",
    "        label = self.labels[idx]\n",
    "        #file_path = os.path.join(\"./train/train_pro0\",self.file_paths[idx])\n",
    "        \n",
    "        # Read an image with OpenCV\n",
    "        #image = cv2.imread(file_path)\n",
    "        image= self.dataset[idx]\n",
    "        # By default OpenCV uses BGR color space for color images,\n",
    "        # so we need to convert the image to RGB color space.\n",
    "        #image = cv2.cvtColor(image, cv2.COLOR_BGR2RGB)\n",
    "        \n",
    "        #if self.transform:\n",
    "        from PIL import Image\n",
    "        \n",
    "        image = Image.fromarray(np.uint8(image))\n",
    "        image=transforms.Resize(224)(image)\n",
    "        image=transforms.ToTensor()(image)\n",
    "        image=transforms.Normalize([0.485, 0.456, 0.406], [0.229, 0.224, 0.225])(image)\n",
    "            \n",
    "        return image, label\n"
   ]
  },
  {
   "cell_type": "code",
   "execution_count": 25,
   "id": "bd4314c7",
   "metadata": {
    "execution": {
     "iopub.execute_input": "2022-11-20T15:13:36.189455Z",
     "iopub.status.busy": "2022-11-20T15:13:36.188671Z",
     "iopub.status.idle": "2022-11-20T15:13:36.193117Z",
     "shell.execute_reply": "2022-11-20T15:13:36.192194Z"
    },
    "papermill": {
     "duration": 0.01793,
     "end_time": "2022-11-20T15:13:36.195066",
     "exception": false,
     "start_time": "2022-11-20T15:13:36.177136",
     "status": "completed"
    },
    "tags": []
   },
   "outputs": [],
   "source": [
    "train=AlbumentationsDataset_train(labels=y_train,dataset=X_train)"
   ]
  },
  {
   "cell_type": "code",
   "execution_count": 26,
   "id": "ee667d00",
   "metadata": {
    "execution": {
     "iopub.execute_input": "2022-11-20T15:13:36.217598Z",
     "iopub.status.busy": "2022-11-20T15:13:36.216818Z",
     "iopub.status.idle": "2022-11-20T15:13:36.232675Z",
     "shell.execute_reply": "2022-11-20T15:13:36.231713Z"
    },
    "papermill": {
     "duration": 0.029448,
     "end_time": "2022-11-20T15:13:36.234944",
     "exception": false,
     "start_time": "2022-11-20T15:13:36.205496",
     "status": "completed"
    },
    "tags": []
   },
   "outputs": [
    {
     "data": {
      "text/plain": [
       "(tensor([[[-0.5082, -0.5082, -0.5082,  ..., -0.4911, -0.4911, -0.4911],\n",
       "          [-0.5082, -0.5082, -0.5082,  ..., -0.4911, -0.4911, -0.4911],\n",
       "          [-0.5082, -0.5082, -0.5082,  ..., -0.4911, -0.4911, -0.4911],\n",
       "          ...,\n",
       "          [-0.9534, -0.9534, -0.9534,  ..., -0.5596, -0.5596, -0.5596],\n",
       "          [-0.9534, -0.9534, -0.9534,  ..., -0.5596, -0.5596, -0.5596],\n",
       "          [-0.9534, -0.9534, -0.9534,  ..., -0.5596, -0.5596, -0.5596]],\n",
       " \n",
       "         [[ 0.3803,  0.3803,  0.3803,  ...,  0.4678,  0.4678,  0.4678],\n",
       "          [ 0.3803,  0.3803,  0.3803,  ...,  0.4678,  0.4678,  0.4678],\n",
       "          [ 0.3803,  0.3803,  0.3803,  ...,  0.4678,  0.4678,  0.4678],\n",
       "          ...,\n",
       "          [-1.0203, -1.0203, -1.0203,  ..., -0.7577, -0.7577, -0.7577],\n",
       "          [-1.0203, -1.0203, -1.0203,  ..., -0.7577, -0.7577, -0.7577],\n",
       "          [-1.0203, -1.0203, -1.0203,  ..., -0.7577, -0.7577, -0.7577]],\n",
       " \n",
       "         [[ 1.2108,  1.2108,  1.2108,  ...,  1.2805,  1.2805,  1.2805],\n",
       "          [ 1.2108,  1.2108,  1.2108,  ...,  1.2805,  1.2805,  1.2805],\n",
       "          [ 1.2108,  1.2108,  1.2108,  ...,  1.2805,  1.2805,  1.2805],\n",
       "          ...,\n",
       "          [-0.9330, -0.9330, -0.9330,  ..., -0.7587, -0.7587, -0.7587],\n",
       "          [-0.9330, -0.9330, -0.9330,  ..., -0.7587, -0.7587, -0.7587],\n",
       "          [-0.9330, -0.9330, -0.9330,  ..., -0.7587, -0.7587, -0.7587]]]),\n",
       " 7)"
      ]
     },
     "execution_count": 26,
     "metadata": {},
     "output_type": "execute_result"
    }
   ],
   "source": [
    "train[1]"
   ]
  },
  {
   "cell_type": "code",
   "execution_count": 27,
   "id": "cf553704",
   "metadata": {
    "execution": {
     "iopub.execute_input": "2022-11-20T15:13:36.257807Z",
     "iopub.status.busy": "2022-11-20T15:13:36.257505Z",
     "iopub.status.idle": "2022-11-20T15:13:36.263903Z",
     "shell.execute_reply": "2022-11-20T15:13:36.263011Z"
    },
    "papermill": {
     "duration": 0.019796,
     "end_time": "2022-11-20T15:13:36.265820",
     "exception": false,
     "start_time": "2022-11-20T15:13:36.246024",
     "status": "completed"
    },
    "tags": []
   },
   "outputs": [],
   "source": [
    "class AlbumentationsDataset_val():\n",
    "    \"\"\"__init__ and __len__ functions are the same as in TorchvisionDataset\"\"\"\n",
    "    def __init__(self, dataset):\n",
    "        #self.file_paths = file_paths\n",
    "        #self.labels = labels\n",
    "        #self.transform = transform\n",
    "        self.dataset=dataset\n",
    "        \n",
    "    def __len__(self):\n",
    "        return len(self.dataset)\n",
    "\n",
    "    def __getitem__(self, idx):\n",
    "        label = self.dataset[idx][1]\n",
    "        #file_path = os.path.join(\"./train/train_pro0\",self.file_paths[idx])\n",
    "        \n",
    "        # Read an image with OpenCV\n",
    "        #image = cv2.imread(file_path)\n",
    "        image= self.dataset[idx][0]\n",
    "        # By default OpenCV uses BGR color space for color images,\n",
    "        # so we need to convert the image to RGB color space.\n",
    "        #image = cv2.cvtColor(image, cv2.COLOR_BGR2RGB)\n",
    "        \n",
    "        image=transforms.Resize(224)(image)\n",
    "        image=transforms.ToTensor()(image)\n",
    "        image=transforms.Normalize([0.485, 0.456, 0.406], [0.229, 0.224, 0.225])(image)\n",
    "        \n",
    "        return image, label"
   ]
  },
  {
   "cell_type": "code",
   "execution_count": 28,
   "id": "952448da",
   "metadata": {
    "execution": {
     "iopub.execute_input": "2022-11-20T15:13:36.288593Z",
     "iopub.status.busy": "2022-11-20T15:13:36.287840Z",
     "iopub.status.idle": "2022-11-20T15:13:36.292284Z",
     "shell.execute_reply": "2022-11-20T15:13:36.291505Z"
    },
    "papermill": {
     "duration": 0.017728,
     "end_time": "2022-11-20T15:13:36.294074",
     "exception": false,
     "start_time": "2022-11-20T15:13:36.276346",
     "status": "completed"
    },
    "tags": []
   },
   "outputs": [],
   "source": [
    "val=AlbumentationsDataset_val(valset)"
   ]
  },
  {
   "cell_type": "code",
   "execution_count": 29,
   "id": "793056c4",
   "metadata": {
    "execution": {
     "iopub.execute_input": "2022-11-20T15:13:36.317891Z",
     "iopub.status.busy": "2022-11-20T15:13:36.317310Z",
     "iopub.status.idle": "2022-11-20T15:13:36.321876Z",
     "shell.execute_reply": "2022-11-20T15:13:36.321057Z"
    },
    "papermill": {
     "duration": 0.01889,
     "end_time": "2022-11-20T15:13:36.323720",
     "exception": false,
     "start_time": "2022-11-20T15:13:36.304830",
     "status": "completed"
    },
    "tags": []
   },
   "outputs": [],
   "source": [
    "test=AlbumentationsDataset_val(testset)"
   ]
  },
  {
   "cell_type": "code",
   "execution_count": 30,
   "id": "ba3907c1",
   "metadata": {
    "execution": {
     "iopub.execute_input": "2022-11-20T15:13:36.346542Z",
     "iopub.status.busy": "2022-11-20T15:13:36.345686Z",
     "iopub.status.idle": "2022-11-20T15:13:36.351240Z",
     "shell.execute_reply": "2022-11-20T15:13:36.350428Z"
    },
    "papermill": {
     "duration": 0.018912,
     "end_time": "2022-11-20T15:13:36.353139",
     "exception": false,
     "start_time": "2022-11-20T15:13:36.334227",
     "status": "completed"
    },
    "tags": []
   },
   "outputs": [],
   "source": [
    "trainloader = torch.utils.data.DataLoader(train, batch_size=64,shuffle=True)\n",
    "valloader=torch.utils.data.DataLoader(val, batch_size=64,shuffle=True)\n",
    "testloader=torch.utils.data.DataLoader(test, batch_size=64,shuffle=True)"
   ]
  },
  {
   "cell_type": "code",
   "execution_count": 31,
   "id": "4ae1dc93",
   "metadata": {
    "execution": {
     "iopub.execute_input": "2022-11-20T15:13:36.376125Z",
     "iopub.status.busy": "2022-11-20T15:13:36.375285Z",
     "iopub.status.idle": "2022-11-20T15:13:48.427217Z",
     "shell.execute_reply": "2022-11-20T15:13:48.426112Z"
    },
    "papermill": {
     "duration": 12.066394,
     "end_time": "2022-11-20T15:13:48.430205",
     "exception": false,
     "start_time": "2022-11-20T15:13:36.363811",
     "status": "completed"
    },
    "tags": []
   },
   "outputs": [
    {
     "name": "stderr",
     "output_type": "stream",
     "text": [
      "Downloading: \"https://download.pytorch.org/models/resnet50-0676ba61.pth\" to /root/.cache/torch/hub/checkpoints/resnet50-0676ba61.pth\n"
     ]
    },
    {
     "data": {
      "application/vnd.jupyter.widget-view+json": {
       "model_id": "edd2ea84df094cde992590022414f40b",
       "version_major": 2,
       "version_minor": 0
      },
      "text/plain": [
       "  0%|          | 0.00/97.8M [00:00<?, ?B/s]"
      ]
     },
     "metadata": {},
     "output_type": "display_data"
    }
   ],
   "source": [
    "model = torchvision.models.resnet50(pretrained=True)\n",
    "model.fc = torch.nn.Sequential(\n",
    "    torch.nn.Linear(\n",
    "        in_features=2048,\n",
    "        out_features=10\n",
    "    ),\n",
    "    \n",
    ")"
   ]
  },
  {
   "cell_type": "code",
   "execution_count": 32,
   "id": "4ff64557",
   "metadata": {
    "execution": {
     "iopub.execute_input": "2022-11-20T15:13:48.458336Z",
     "iopub.status.busy": "2022-11-20T15:13:48.457981Z",
     "iopub.status.idle": "2022-11-20T15:13:51.095265Z",
     "shell.execute_reply": "2022-11-20T15:13:51.094167Z"
    },
    "papermill": {
     "duration": 2.654284,
     "end_time": "2022-11-20T15:13:51.097849",
     "exception": false,
     "start_time": "2022-11-20T15:13:48.443565",
     "status": "completed"
    },
    "tags": []
   },
   "outputs": [],
   "source": [
    "from torch import optim\n",
    "device=torch.device(\"cuda\")\n",
    "criterion = nn.CrossEntropyLoss().to(device)\n",
    "optimizer = optim.Adam(model.parameters(), lr=1e-3)\n",
    "model=model.cuda()"
   ]
  },
  {
   "cell_type": "code",
   "execution_count": 33,
   "id": "6e0b44e2",
   "metadata": {
    "execution": {
     "iopub.execute_input": "2022-11-20T15:13:51.121947Z",
     "iopub.status.busy": "2022-11-20T15:13:51.121621Z",
     "iopub.status.idle": "2022-11-20T15:13:51.131047Z",
     "shell.execute_reply": "2022-11-20T15:13:51.130010Z"
    },
    "papermill": {
     "duration": 0.024133,
     "end_time": "2022-11-20T15:13:51.133424",
     "exception": false,
     "start_time": "2022-11-20T15:13:51.109291",
     "status": "completed"
    },
    "tags": []
   },
   "outputs": [],
   "source": [
    "import numpy as np\n",
    "import torch\n",
    " \n",
    "class EarlyStopping:\n",
    "    \"\"\"Early stops the training if validation loss doesn't improve after a given patience.\"\"\"\n",
    "    def __init__(self, patience=7, verbose=False, delta=0):\n",
    "        \"\"\"\n",
    "        Args:\n",
    "            patience (int): How long to wait after last time validation loss improved.\n",
    "                            上次验证集损失值改善后等待几个epoch\n",
    "                            Default: 7\n",
    "            verbose (bool): If True, prints a message for each validation loss improvement.\n",
    "                            如果是True，为每个验证集损失值改善打印一条信息\n",
    "                            Default: False\n",
    "            delta (float): Minimum change in the monitored quantity to qualify as an improvement.\n",
    "                            监测数量的最小变化，以符合改进的要求\n",
    "                            Default: 0\n",
    "        \"\"\"\n",
    "        self.patience = patience\n",
    "        self.verbose = verbose\n",
    "        self.counter = 0\n",
    "        self.best_score = None\n",
    "        self.early_stop = False\n",
    "        self.val_loss_min = np.Inf\n",
    "        self.delta = delta\n",
    " \n",
    "    def __call__(self, val_loss, model):\n",
    " \n",
    "        score = -val_loss\n",
    " \n",
    "        if self.best_score is None:\n",
    "            self.best_score = score\n",
    "            self.save_checkpoint(val_loss, model)\n",
    "        elif score < self.best_score + self.delta:\n",
    "            self.counter += 1\n",
    "            # print(f'EarlyStopping counter: {self.counter} out of {self.patience}')\n",
    "            if self.counter >= self.patience:\n",
    "                self.early_stop = True\n",
    "        else:\n",
    "            self.best_score = score\n",
    "            self.save_checkpoint(val_loss, model)\n",
    "            self.counter = 0\n",
    " \n",
    "    def save_checkpoint(self, val_loss, model):\n",
    "        '''\n",
    "        Saves model when validation loss decrease.\n",
    "        验证损失减少时保存模型。\n",
    "        '''\n",
    "        if self.verbose:\n",
    "            print(f'Validation loss decreased ({self.val_loss_min:.6f} --> {val_loss:.6f}).  Saving model ...')\n",
    "        torch.save(model.state_dict(), 'checkpoint.pth') # 这里会存储迄今最优模型的参数\n",
    "        # torch.save(model, 'finish_model.pkl') # 这里会存储迄今最优的模型\n",
    "        self.val_loss_min = val_loss"
   ]
  },
  {
   "cell_type": "code",
   "execution_count": 34,
   "id": "8bccbe92",
   "metadata": {
    "execution": {
     "iopub.execute_input": "2022-11-20T15:13:51.156862Z",
     "iopub.status.busy": "2022-11-20T15:13:51.156084Z",
     "iopub.status.idle": "2022-11-20T21:16:19.709136Z",
     "shell.execute_reply": "2022-11-20T21:16:19.704760Z"
    },
    "papermill": {
     "duration": 21748.576666,
     "end_time": "2022-11-20T21:16:19.720991",
     "exception": false,
     "start_time": "2022-11-20T15:13:51.144325",
     "status": "completed"
    },
    "tags": []
   },
   "outputs": [
    {
     "name": "stdout",
     "output_type": "stream",
     "text": [
      "Train loss 1: 0.8526434011300404,Train Acc:70.02583333333334%\n",
      "Validation loss decreased (inf --> 4440.338778).  Saving model ...\n",
      "Val accuracy:85.25%\n",
      "Train loss 2: 0.5238597804347674,Train Acc:81.62166666666667%\n",
      "Validation loss decreased (4440.338778 --> 3298.228481).  Saving model ...\n",
      "Val accuracy:89.16%\n",
      "Train loss 3: 0.40403909444411595,Train Acc:85.78875%\n",
      "Validation loss decreased (3298.228481 --> 2827.989591).  Saving model ...\n",
      "Val accuracy:91.0%\n",
      "Train loss 4: 0.32551238426764806,Train Acc:88.47916666666667%\n",
      "Val accuracy:90.66%\n",
      "Train loss 5: 0.2721912808159987,Train Acc:90.33833333333334%\n",
      "Val accuracy:90.21%\n",
      "Train loss 6: 0.23437011851171652,Train Acc:91.68041666666667%\n",
      "Val accuracy:90.41%\n",
      "Train loss 7: 0.20832208034892877,Train Acc:92.655%\n",
      "Val accuracy:91.97%\n",
      "Train loss 8: 0.18742544393092395,Train Acc:93.36791666666667%\n",
      "Val accuracy:91.37%\n",
      "Train loss 9: 0.17070239475220442,Train Acc:93.94833333333334%\n",
      "Val accuracy:92.37%\n",
      "Train loss 10: 0.15595007806705932,Train Acc:94.53541666666666%\n",
      "Val accuracy:91.59%\n",
      "Train loss 11: 0.14120966929818193,Train Acc:95.06041666666667%\n",
      "Val accuracy:92.31%\n",
      "Train loss 12: 0.1283206143178046,Train Acc:95.57958333333333%\n",
      "Val accuracy:92.0%\n",
      "Train loss 13: 0.1144927741849174,Train Acc:96.01458333333333%\n",
      "Early stopping\n",
      "Finished Training\n"
     ]
    }
   ],
   "source": [
    "patience = 10\n",
    "early_stopping = EarlyStopping(patience, verbose=True)\n",
    "best_val_acc = -1000\n",
    "best_val_model = None\n",
    "for epoch in range(30):  \n",
    "    model.train(True)\n",
    "    running_loss = 0.0\n",
    "    running_acc = 0\n",
    "    for i, data in enumerate(trainloader, 0):\n",
    "        inputs, labels = data\n",
    "        inputs, labels = inputs.cuda(),labels.cuda()\n",
    "        optimizer.zero_grad()\n",
    "        inputs= inputs.float()\n",
    "        outputs = model(inputs).to(device)\n",
    "        loss = criterion(outputs, labels)\n",
    "        loss.backward()\n",
    "        optimizer.step()\n",
    "\n",
    "        # print statistics\n",
    "        running_loss += loss.item() * inputs.size(0)\n",
    "        out = torch.argmax(outputs.detach(),dim=1)\n",
    "        assert out.shape==labels.shape\n",
    "        running_acc += (labels==out).sum().item()\n",
    "    print(f\"Train loss {epoch+1}: {running_loss/len(train)},Train Acc:{running_acc*100/len(train)}%\")\n",
    "    \n",
    "    correct = 0\n",
    "    valid_loss=0\n",
    "    model.train(False)\n",
    "    with torch.no_grad():\n",
    "        for inputs,labels in valloader:\n",
    "            inputs= inputs.float()\n",
    "            labels=labels.cuda()\n",
    "            out = model(inputs.cuda()).to(device)\n",
    "            loss = criterion(out, labels)\n",
    "            out = torch.argmax(out,dim=1)\n",
    "            acc = (out==labels).sum().item()\n",
    "            correct += acc\n",
    "            valid_loss += loss.item() * inputs.size(0)\n",
    "        early_stopping(valid_loss, model)\n",
    "\n",
    "        if early_stopping.early_stop:\n",
    "            print(\"Early stopping\")\n",
    "\n",
    "            break\n",
    "        print(f\"Val accuracy:{correct*100/len(val)}%\")\n",
    "    if correct>best_val_acc:\n",
    "        best_val_acc = correct\n",
    "        best_val_model = deepcopy(model.state_dict())\n",
    "   \n",
    "    \n",
    "print('Finished Training')  "
   ]
  },
  {
   "cell_type": "code",
   "execution_count": 35,
   "id": "fc5f1226",
   "metadata": {
    "execution": {
     "iopub.execute_input": "2022-11-20T21:16:19.747219Z",
     "iopub.status.busy": "2022-11-20T21:16:19.746900Z",
     "iopub.status.idle": "2022-11-20T21:16:55.164186Z",
     "shell.execute_reply": "2022-11-20T21:16:55.159084Z"
    },
    "papermill": {
     "duration": 35.442474,
     "end_time": "2022-11-20T21:16:55.175734",
     "exception": false,
     "start_time": "2022-11-20T21:16:19.733260",
     "status": "completed"
    },
    "tags": []
   },
   "outputs": [
    {
     "name": "stdout",
     "output_type": "stream",
     "text": [
      "Test accuracy: 92.03%\n",
      "CPU times: user 32.2 s, sys: 3.05 s, total: 35.3 s\n",
      "Wall time: 35.4 s\n"
     ]
    }
   ],
   "source": [
    "%%time\n",
    "correct = 0\n",
    "model.load_state_dict(best_val_model)\n",
    "#model.load_state_dict(torch.load('checkpoint.pth'))\n",
    "model.train(False)\n",
    "with torch.no_grad():\n",
    "    for inputs,labels in testloader:\n",
    "        labels=labels.cuda()\n",
    "        inputs=inputs.float()\n",
    "        out = model(inputs.cuda()).to(device)\n",
    "        out = torch.argmax(out,dim=1)\n",
    "        acc = (out==labels).sum().item()\n",
    "        \n",
    "        correct += acc\n",
    "print(f\"Test accuracy: {correct*100/len(test)}%\")"
   ]
  }
 ],
 "metadata": {
  "kernelspec": {
   "display_name": "Python 3",
   "language": "python",
   "name": "python3"
  },
  "language_info": {
   "codemirror_mode": {
    "name": "ipython",
    "version": 3
   },
   "file_extension": ".py",
   "mimetype": "text/x-python",
   "name": "python",
   "nbconvert_exporter": "python",
   "pygments_lexer": "ipython3",
   "version": "3.7.12"
  },
  "papermill": {
   "default_parameters": {},
   "duration": 21928.386211,
   "end_time": "2022-11-20T21:16:58.043258",
   "environment_variables": {},
   "exception": null,
   "input_path": "__notebook__.ipynb",
   "output_path": "__notebook__.ipynb",
   "parameters": {},
   "start_time": "2022-11-20T15:11:29.657047",
   "version": "2.3.4"
  },
  "widgets": {
   "application/vnd.jupyter.widget-state+json": {
    "state": {
     "0285711e6d7c481ab73e4c26ad8784d5": {
      "model_module": "@jupyter-widgets/controls",
      "model_module_version": "1.5.0",
      "model_name": "DescriptionStyleModel",
      "state": {
       "_model_module": "@jupyter-widgets/controls",
       "_model_module_version": "1.5.0",
       "_model_name": "DescriptionStyleModel",
       "_view_count": null,
       "_view_module": "@jupyter-widgets/base",
       "_view_module_version": "1.2.0",
       "_view_name": "StyleView",
       "description_width": ""
      }
     },
     "0a4823bd1e024bd0838c530ced0468fe": {
      "model_module": "@jupyter-widgets/base",
      "model_module_version": "1.2.0",
      "model_name": "LayoutModel",
      "state": {
       "_model_module": "@jupyter-widgets/base",
       "_model_module_version": "1.2.0",
       "_model_name": "LayoutModel",
       "_view_count": null,
       "_view_module": "@jupyter-widgets/base",
       "_view_module_version": "1.2.0",
       "_view_name": "LayoutView",
       "align_content": null,
       "align_items": null,
       "align_self": null,
       "border": null,
       "bottom": null,
       "display": null,
       "flex": null,
       "flex_flow": null,
       "grid_area": null,
       "grid_auto_columns": null,
       "grid_auto_flow": null,
       "grid_auto_rows": null,
       "grid_column": null,
       "grid_gap": null,
       "grid_row": null,
       "grid_template_areas": null,
       "grid_template_columns": null,
       "grid_template_rows": null,
       "height": null,
       "justify_content": null,
       "justify_items": null,
       "left": null,
       "margin": null,
       "max_height": null,
       "max_width": null,
       "min_height": null,
       "min_width": null,
       "object_fit": null,
       "object_position": null,
       "order": null,
       "overflow": null,
       "overflow_x": null,
       "overflow_y": null,
       "padding": null,
       "right": null,
       "top": null,
       "visibility": null,
       "width": null
      }
     },
     "0a5b7874d3074594854043c6f6c9005b": {
      "model_module": "@jupyter-widgets/controls",
      "model_module_version": "1.5.0",
      "model_name": "FloatProgressModel",
      "state": {
       "_dom_classes": [],
       "_model_module": "@jupyter-widgets/controls",
       "_model_module_version": "1.5.0",
       "_model_name": "FloatProgressModel",
       "_view_count": null,
       "_view_module": "@jupyter-widgets/controls",
       "_view_module_version": "1.5.0",
       "_view_name": "ProgressView",
       "bar_style": "success",
       "description": "",
       "description_tooltip": null,
       "layout": "IPY_MODEL_4bb6318c1d32468d813f92503502e686",
       "max": 102530333.0,
       "min": 0.0,
       "orientation": "horizontal",
       "style": "IPY_MODEL_58708954032b4f90ba93ae7a8121c58c",
       "value": 102530333.0
      }
     },
     "0a655d7f48d24f6ca4ee2f0cf6d66c84": {
      "model_module": "@jupyter-widgets/controls",
      "model_module_version": "1.5.0",
      "model_name": "DescriptionStyleModel",
      "state": {
       "_model_module": "@jupyter-widgets/controls",
       "_model_module_version": "1.5.0",
       "_model_name": "DescriptionStyleModel",
       "_view_count": null,
       "_view_module": "@jupyter-widgets/base",
       "_view_module_version": "1.2.0",
       "_view_name": "StyleView",
       "description_width": ""
      }
     },
     "16e138e3c028480e98729979f52e64b9": {
      "model_module": "@jupyter-widgets/base",
      "model_module_version": "1.2.0",
      "model_name": "LayoutModel",
      "state": {
       "_model_module": "@jupyter-widgets/base",
       "_model_module_version": "1.2.0",
       "_model_name": "LayoutModel",
       "_view_count": null,
       "_view_module": "@jupyter-widgets/base",
       "_view_module_version": "1.2.0",
       "_view_name": "LayoutView",
       "align_content": null,
       "align_items": null,
       "align_self": null,
       "border": null,
       "bottom": null,
       "display": null,
       "flex": null,
       "flex_flow": null,
       "grid_area": null,
       "grid_auto_columns": null,
       "grid_auto_flow": null,
       "grid_auto_rows": null,
       "grid_column": null,
       "grid_gap": null,
       "grid_row": null,
       "grid_template_areas": null,
       "grid_template_columns": null,
       "grid_template_rows": null,
       "height": null,
       "justify_content": null,
       "justify_items": null,
       "left": null,
       "margin": null,
       "max_height": null,
       "max_width": null,
       "min_height": null,
       "min_width": null,
       "object_fit": null,
       "object_position": null,
       "order": null,
       "overflow": null,
       "overflow_x": null,
       "overflow_y": null,
       "padding": null,
       "right": null,
       "top": null,
       "visibility": null,
       "width": null
      }
     },
     "1bc3382fb69f492491edc7c3a6d21305": {
      "model_module": "@jupyter-widgets/controls",
      "model_module_version": "1.5.0",
      "model_name": "HTMLModel",
      "state": {
       "_dom_classes": [],
       "_model_module": "@jupyter-widgets/controls",
       "_model_module_version": "1.5.0",
       "_model_name": "HTMLModel",
       "_view_count": null,
       "_view_module": "@jupyter-widgets/controls",
       "_view_module_version": "1.5.0",
       "_view_name": "HTMLView",
       "description": "",
       "description_tooltip": null,
       "layout": "IPY_MODEL_9efbefabee0b482aadd2158dfceb783d",
       "placeholder": "​",
       "style": "IPY_MODEL_ac33628592244428bf15c3d20d42300c",
       "value": ""
      }
     },
     "3d527cf1ad124a1fa4a8531cc420aff5": {
      "model_module": "@jupyter-widgets/controls",
      "model_module_version": "1.5.0",
      "model_name": "HTMLModel",
      "state": {
       "_dom_classes": [],
       "_model_module": "@jupyter-widgets/controls",
       "_model_module_version": "1.5.0",
       "_model_name": "HTMLModel",
       "_view_count": null,
       "_view_module": "@jupyter-widgets/controls",
       "_view_module_version": "1.5.0",
       "_view_name": "HTMLView",
       "description": "",
       "description_tooltip": null,
       "layout": "IPY_MODEL_54fd49bfaa92410183b506853e2b9142",
       "placeholder": "​",
       "style": "IPY_MODEL_0285711e6d7c481ab73e4c26ad8784d5",
       "value": " 170499072/? [00:12&lt;00:00, 17217118.51it/s]"
      }
     },
     "4418f0eac65d49e88e699d0027e1ae92": {
      "model_module": "@jupyter-widgets/controls",
      "model_module_version": "1.5.0",
      "model_name": "FloatProgressModel",
      "state": {
       "_dom_classes": [],
       "_model_module": "@jupyter-widgets/controls",
       "_model_module_version": "1.5.0",
       "_model_name": "FloatProgressModel",
       "_view_count": null,
       "_view_module": "@jupyter-widgets/controls",
       "_view_module_version": "1.5.0",
       "_view_name": "ProgressView",
       "bar_style": "success",
       "description": "",
       "description_tooltip": null,
       "layout": "IPY_MODEL_722fdaab166047acb61a4ea111ec16eb",
       "max": 170498071.0,
       "min": 0.0,
       "orientation": "horizontal",
       "style": "IPY_MODEL_8b720ae6bab9444680c167d5fa4e7569",
       "value": 170498071.0
      }
     },
     "4b867e5390334bf99d30ed3619d99271": {
      "model_module": "@jupyter-widgets/controls",
      "model_module_version": "1.5.0",
      "model_name": "HTMLModel",
      "state": {
       "_dom_classes": [],
       "_model_module": "@jupyter-widgets/controls",
       "_model_module_version": "1.5.0",
       "_model_name": "HTMLModel",
       "_view_count": null,
       "_view_module": "@jupyter-widgets/controls",
       "_view_module_version": "1.5.0",
       "_view_name": "HTMLView",
       "description": "",
       "description_tooltip": null,
       "layout": "IPY_MODEL_0a4823bd1e024bd0838c530ced0468fe",
       "placeholder": "​",
       "style": "IPY_MODEL_0a655d7f48d24f6ca4ee2f0cf6d66c84",
       "value": " 97.8M/97.8M [00:10&lt;00:00, 11.8MB/s]"
      }
     },
     "4bb6318c1d32468d813f92503502e686": {
      "model_module": "@jupyter-widgets/base",
      "model_module_version": "1.2.0",
      "model_name": "LayoutModel",
      "state": {
       "_model_module": "@jupyter-widgets/base",
       "_model_module_version": "1.2.0",
       "_model_name": "LayoutModel",
       "_view_count": null,
       "_view_module": "@jupyter-widgets/base",
       "_view_module_version": "1.2.0",
       "_view_name": "LayoutView",
       "align_content": null,
       "align_items": null,
       "align_self": null,
       "border": null,
       "bottom": null,
       "display": null,
       "flex": null,
       "flex_flow": null,
       "grid_area": null,
       "grid_auto_columns": null,
       "grid_auto_flow": null,
       "grid_auto_rows": null,
       "grid_column": null,
       "grid_gap": null,
       "grid_row": null,
       "grid_template_areas": null,
       "grid_template_columns": null,
       "grid_template_rows": null,
       "height": null,
       "justify_content": null,
       "justify_items": null,
       "left": null,
       "margin": null,
       "max_height": null,
       "max_width": null,
       "min_height": null,
       "min_width": null,
       "object_fit": null,
       "object_position": null,
       "order": null,
       "overflow": null,
       "overflow_x": null,
       "overflow_y": null,
       "padding": null,
       "right": null,
       "top": null,
       "visibility": null,
       "width": null
      }
     },
     "54fd49bfaa92410183b506853e2b9142": {
      "model_module": "@jupyter-widgets/base",
      "model_module_version": "1.2.0",
      "model_name": "LayoutModel",
      "state": {
       "_model_module": "@jupyter-widgets/base",
       "_model_module_version": "1.2.0",
       "_model_name": "LayoutModel",
       "_view_count": null,
       "_view_module": "@jupyter-widgets/base",
       "_view_module_version": "1.2.0",
       "_view_name": "LayoutView",
       "align_content": null,
       "align_items": null,
       "align_self": null,
       "border": null,
       "bottom": null,
       "display": null,
       "flex": null,
       "flex_flow": null,
       "grid_area": null,
       "grid_auto_columns": null,
       "grid_auto_flow": null,
       "grid_auto_rows": null,
       "grid_column": null,
       "grid_gap": null,
       "grid_row": null,
       "grid_template_areas": null,
       "grid_template_columns": null,
       "grid_template_rows": null,
       "height": null,
       "justify_content": null,
       "justify_items": null,
       "left": null,
       "margin": null,
       "max_height": null,
       "max_width": null,
       "min_height": null,
       "min_width": null,
       "object_fit": null,
       "object_position": null,
       "order": null,
       "overflow": null,
       "overflow_x": null,
       "overflow_y": null,
       "padding": null,
       "right": null,
       "top": null,
       "visibility": null,
       "width": null
      }
     },
     "58708954032b4f90ba93ae7a8121c58c": {
      "model_module": "@jupyter-widgets/controls",
      "model_module_version": "1.5.0",
      "model_name": "ProgressStyleModel",
      "state": {
       "_model_module": "@jupyter-widgets/controls",
       "_model_module_version": "1.5.0",
       "_model_name": "ProgressStyleModel",
       "_view_count": null,
       "_view_module": "@jupyter-widgets/base",
       "_view_module_version": "1.2.0",
       "_view_name": "StyleView",
       "bar_color": null,
       "description_width": ""
      }
     },
     "5fb2bad87de74bf495312dbc8aab013b": {
      "model_module": "@jupyter-widgets/base",
      "model_module_version": "1.2.0",
      "model_name": "LayoutModel",
      "state": {
       "_model_module": "@jupyter-widgets/base",
       "_model_module_version": "1.2.0",
       "_model_name": "LayoutModel",
       "_view_count": null,
       "_view_module": "@jupyter-widgets/base",
       "_view_module_version": "1.2.0",
       "_view_name": "LayoutView",
       "align_content": null,
       "align_items": null,
       "align_self": null,
       "border": null,
       "bottom": null,
       "display": null,
       "flex": null,
       "flex_flow": null,
       "grid_area": null,
       "grid_auto_columns": null,
       "grid_auto_flow": null,
       "grid_auto_rows": null,
       "grid_column": null,
       "grid_gap": null,
       "grid_row": null,
       "grid_template_areas": null,
       "grid_template_columns": null,
       "grid_template_rows": null,
       "height": null,
       "justify_content": null,
       "justify_items": null,
       "left": null,
       "margin": null,
       "max_height": null,
       "max_width": null,
       "min_height": null,
       "min_width": null,
       "object_fit": null,
       "object_position": null,
       "order": null,
       "overflow": null,
       "overflow_x": null,
       "overflow_y": null,
       "padding": null,
       "right": null,
       "top": null,
       "visibility": null,
       "width": null
      }
     },
     "722fdaab166047acb61a4ea111ec16eb": {
      "model_module": "@jupyter-widgets/base",
      "model_module_version": "1.2.0",
      "model_name": "LayoutModel",
      "state": {
       "_model_module": "@jupyter-widgets/base",
       "_model_module_version": "1.2.0",
       "_model_name": "LayoutModel",
       "_view_count": null,
       "_view_module": "@jupyter-widgets/base",
       "_view_module_version": "1.2.0",
       "_view_name": "LayoutView",
       "align_content": null,
       "align_items": null,
       "align_self": null,
       "border": null,
       "bottom": null,
       "display": null,
       "flex": null,
       "flex_flow": null,
       "grid_area": null,
       "grid_auto_columns": null,
       "grid_auto_flow": null,
       "grid_auto_rows": null,
       "grid_column": null,
       "grid_gap": null,
       "grid_row": null,
       "grid_template_areas": null,
       "grid_template_columns": null,
       "grid_template_rows": null,
       "height": null,
       "justify_content": null,
       "justify_items": null,
       "left": null,
       "margin": null,
       "max_height": null,
       "max_width": null,
       "min_height": null,
       "min_width": null,
       "object_fit": null,
       "object_position": null,
       "order": null,
       "overflow": null,
       "overflow_x": null,
       "overflow_y": null,
       "padding": null,
       "right": null,
       "top": null,
       "visibility": null,
       "width": null
      }
     },
     "731756adbe9d4f0ca1a465a666c80173": {
      "model_module": "@jupyter-widgets/base",
      "model_module_version": "1.2.0",
      "model_name": "LayoutModel",
      "state": {
       "_model_module": "@jupyter-widgets/base",
       "_model_module_version": "1.2.0",
       "_model_name": "LayoutModel",
       "_view_count": null,
       "_view_module": "@jupyter-widgets/base",
       "_view_module_version": "1.2.0",
       "_view_name": "LayoutView",
       "align_content": null,
       "align_items": null,
       "align_self": null,
       "border": null,
       "bottom": null,
       "display": null,
       "flex": null,
       "flex_flow": null,
       "grid_area": null,
       "grid_auto_columns": null,
       "grid_auto_flow": null,
       "grid_auto_rows": null,
       "grid_column": null,
       "grid_gap": null,
       "grid_row": null,
       "grid_template_areas": null,
       "grid_template_columns": null,
       "grid_template_rows": null,
       "height": null,
       "justify_content": null,
       "justify_items": null,
       "left": null,
       "margin": null,
       "max_height": null,
       "max_width": null,
       "min_height": null,
       "min_width": null,
       "object_fit": null,
       "object_position": null,
       "order": null,
       "overflow": null,
       "overflow_x": null,
       "overflow_y": null,
       "padding": null,
       "right": null,
       "top": null,
       "visibility": null,
       "width": null
      }
     },
     "78150fdfa4314a5fb67db162ef1d388b": {
      "model_module": "@jupyter-widgets/base",
      "model_module_version": "1.2.0",
      "model_name": "LayoutModel",
      "state": {
       "_model_module": "@jupyter-widgets/base",
       "_model_module_version": "1.2.0",
       "_model_name": "LayoutModel",
       "_view_count": null,
       "_view_module": "@jupyter-widgets/base",
       "_view_module_version": "1.2.0",
       "_view_name": "LayoutView",
       "align_content": null,
       "align_items": null,
       "align_self": null,
       "border": null,
       "bottom": null,
       "display": null,
       "flex": null,
       "flex_flow": null,
       "grid_area": null,
       "grid_auto_columns": null,
       "grid_auto_flow": null,
       "grid_auto_rows": null,
       "grid_column": null,
       "grid_gap": null,
       "grid_row": null,
       "grid_template_areas": null,
       "grid_template_columns": null,
       "grid_template_rows": null,
       "height": null,
       "justify_content": null,
       "justify_items": null,
       "left": null,
       "margin": null,
       "max_height": null,
       "max_width": null,
       "min_height": null,
       "min_width": null,
       "object_fit": null,
       "object_position": null,
       "order": null,
       "overflow": null,
       "overflow_x": null,
       "overflow_y": null,
       "padding": null,
       "right": null,
       "top": null,
       "visibility": null,
       "width": null
      }
     },
     "81772ba4f8264d69a1977682cdb8e52b": {
      "model_module": "@jupyter-widgets/controls",
      "model_module_version": "1.5.0",
      "model_name": "FloatProgressModel",
      "state": {
       "_dom_classes": [],
       "_model_module": "@jupyter-widgets/controls",
       "_model_module_version": "1.5.0",
       "_model_name": "FloatProgressModel",
       "_view_count": null,
       "_view_module": "@jupyter-widgets/controls",
       "_view_module_version": "1.5.0",
       "_view_name": "ProgressView",
       "bar_style": "success",
       "description": "",
       "description_tooltip": null,
       "layout": "IPY_MODEL_82ca88f9210d4c9b8b21785a1e2e02eb",
       "max": 170498071.0,
       "min": 0.0,
       "orientation": "horizontal",
       "style": "IPY_MODEL_b088228ebcb8428c813f583bf01245e0",
       "value": 170498071.0
      }
     },
     "82ca88f9210d4c9b8b21785a1e2e02eb": {
      "model_module": "@jupyter-widgets/base",
      "model_module_version": "1.2.0",
      "model_name": "LayoutModel",
      "state": {
       "_model_module": "@jupyter-widgets/base",
       "_model_module_version": "1.2.0",
       "_model_name": "LayoutModel",
       "_view_count": null,
       "_view_module": "@jupyter-widgets/base",
       "_view_module_version": "1.2.0",
       "_view_name": "LayoutView",
       "align_content": null,
       "align_items": null,
       "align_self": null,
       "border": null,
       "bottom": null,
       "display": null,
       "flex": null,
       "flex_flow": null,
       "grid_area": null,
       "grid_auto_columns": null,
       "grid_auto_flow": null,
       "grid_auto_rows": null,
       "grid_column": null,
       "grid_gap": null,
       "grid_row": null,
       "grid_template_areas": null,
       "grid_template_columns": null,
       "grid_template_rows": null,
       "height": null,
       "justify_content": null,
       "justify_items": null,
       "left": null,
       "margin": null,
       "max_height": null,
       "max_width": null,
       "min_height": null,
       "min_width": null,
       "object_fit": null,
       "object_position": null,
       "order": null,
       "overflow": null,
       "overflow_x": null,
       "overflow_y": null,
       "padding": null,
       "right": null,
       "top": null,
       "visibility": null,
       "width": null
      }
     },
     "870904c07b4544759e404eae6cf4cea0": {
      "model_module": "@jupyter-widgets/controls",
      "model_module_version": "1.5.0",
      "model_name": "HBoxModel",
      "state": {
       "_dom_classes": [],
       "_model_module": "@jupyter-widgets/controls",
       "_model_module_version": "1.5.0",
       "_model_name": "HBoxModel",
       "_view_count": null,
       "_view_module": "@jupyter-widgets/controls",
       "_view_module_version": "1.5.0",
       "_view_name": "HBoxView",
       "box_style": "",
       "children": [
        "IPY_MODEL_1bc3382fb69f492491edc7c3a6d21305",
        "IPY_MODEL_81772ba4f8264d69a1977682cdb8e52b",
        "IPY_MODEL_ac4c8f3ee93f4bb198762e5ac3866db5"
       ],
       "layout": "IPY_MODEL_16e138e3c028480e98729979f52e64b9"
      }
     },
     "887b28951914480e89073aa9320b32e4": {
      "model_module": "@jupyter-widgets/controls",
      "model_module_version": "1.5.0",
      "model_name": "HTMLModel",
      "state": {
       "_dom_classes": [],
       "_model_module": "@jupyter-widgets/controls",
       "_model_module_version": "1.5.0",
       "_model_name": "HTMLModel",
       "_view_count": null,
       "_view_module": "@jupyter-widgets/controls",
       "_view_module_version": "1.5.0",
       "_view_name": "HTMLView",
       "description": "",
       "description_tooltip": null,
       "layout": "IPY_MODEL_f90e89947bf94021a777026d8efeecd9",
       "placeholder": "​",
       "style": "IPY_MODEL_cfbb682efd094fd5b00dc51cf1b0ea99",
       "value": ""
      }
     },
     "8b720ae6bab9444680c167d5fa4e7569": {
      "model_module": "@jupyter-widgets/controls",
      "model_module_version": "1.5.0",
      "model_name": "ProgressStyleModel",
      "state": {
       "_model_module": "@jupyter-widgets/controls",
       "_model_module_version": "1.5.0",
       "_model_name": "ProgressStyleModel",
       "_view_count": null,
       "_view_module": "@jupyter-widgets/base",
       "_view_module_version": "1.2.0",
       "_view_name": "StyleView",
       "bar_color": null,
       "description_width": ""
      }
     },
     "9026c580c43e48fa8fb83a88eb6abb57": {
      "model_module": "@jupyter-widgets/controls",
      "model_module_version": "1.5.0",
      "model_name": "HTMLModel",
      "state": {
       "_dom_classes": [],
       "_model_module": "@jupyter-widgets/controls",
       "_model_module_version": "1.5.0",
       "_model_name": "HTMLModel",
       "_view_count": null,
       "_view_module": "@jupyter-widgets/controls",
       "_view_module_version": "1.5.0",
       "_view_name": "HTMLView",
       "description": "",
       "description_tooltip": null,
       "layout": "IPY_MODEL_e8cf3846ca7c43abb6d5be1579cdb7cf",
       "placeholder": "​",
       "style": "IPY_MODEL_d128d1ce71514626a3bcd715b07d9160",
       "value": "100%"
      }
     },
     "9efbefabee0b482aadd2158dfceb783d": {
      "model_module": "@jupyter-widgets/base",
      "model_module_version": "1.2.0",
      "model_name": "LayoutModel",
      "state": {
       "_model_module": "@jupyter-widgets/base",
       "_model_module_version": "1.2.0",
       "_model_name": "LayoutModel",
       "_view_count": null,
       "_view_module": "@jupyter-widgets/base",
       "_view_module_version": "1.2.0",
       "_view_name": "LayoutView",
       "align_content": null,
       "align_items": null,
       "align_self": null,
       "border": null,
       "bottom": null,
       "display": null,
       "flex": null,
       "flex_flow": null,
       "grid_area": null,
       "grid_auto_columns": null,
       "grid_auto_flow": null,
       "grid_auto_rows": null,
       "grid_column": null,
       "grid_gap": null,
       "grid_row": null,
       "grid_template_areas": null,
       "grid_template_columns": null,
       "grid_template_rows": null,
       "height": null,
       "justify_content": null,
       "justify_items": null,
       "left": null,
       "margin": null,
       "max_height": null,
       "max_width": null,
       "min_height": null,
       "min_width": null,
       "object_fit": null,
       "object_position": null,
       "order": null,
       "overflow": null,
       "overflow_x": null,
       "overflow_y": null,
       "padding": null,
       "right": null,
       "top": null,
       "visibility": null,
       "width": null
      }
     },
     "a7d495d717f14bf48abe38e669a20d9a": {
      "model_module": "@jupyter-widgets/controls",
      "model_module_version": "1.5.0",
      "model_name": "HBoxModel",
      "state": {
       "_dom_classes": [],
       "_model_module": "@jupyter-widgets/controls",
       "_model_module_version": "1.5.0",
       "_model_name": "HBoxModel",
       "_view_count": null,
       "_view_module": "@jupyter-widgets/controls",
       "_view_module_version": "1.5.0",
       "_view_name": "HBoxView",
       "box_style": "",
       "children": [
        "IPY_MODEL_887b28951914480e89073aa9320b32e4",
        "IPY_MODEL_4418f0eac65d49e88e699d0027e1ae92",
        "IPY_MODEL_3d527cf1ad124a1fa4a8531cc420aff5"
       ],
       "layout": "IPY_MODEL_731756adbe9d4f0ca1a465a666c80173"
      }
     },
     "ac33628592244428bf15c3d20d42300c": {
      "model_module": "@jupyter-widgets/controls",
      "model_module_version": "1.5.0",
      "model_name": "DescriptionStyleModel",
      "state": {
       "_model_module": "@jupyter-widgets/controls",
       "_model_module_version": "1.5.0",
       "_model_name": "DescriptionStyleModel",
       "_view_count": null,
       "_view_module": "@jupyter-widgets/base",
       "_view_module_version": "1.2.0",
       "_view_name": "StyleView",
       "description_width": ""
      }
     },
     "ac4c8f3ee93f4bb198762e5ac3866db5": {
      "model_module": "@jupyter-widgets/controls",
      "model_module_version": "1.5.0",
      "model_name": "HTMLModel",
      "state": {
       "_dom_classes": [],
       "_model_module": "@jupyter-widgets/controls",
       "_model_module_version": "1.5.0",
       "_model_name": "HTMLModel",
       "_view_count": null,
       "_view_module": "@jupyter-widgets/controls",
       "_view_module_version": "1.5.0",
       "_view_name": "HTMLView",
       "description": "",
       "description_tooltip": null,
       "layout": "IPY_MODEL_78150fdfa4314a5fb67db162ef1d388b",
       "placeholder": "​",
       "style": "IPY_MODEL_d26ceec82cb34d81bec9b530098b3e6d",
       "value": " 170499072/? [00:12&lt;00:00, 13453384.61it/s]"
      }
     },
     "b088228ebcb8428c813f583bf01245e0": {
      "model_module": "@jupyter-widgets/controls",
      "model_module_version": "1.5.0",
      "model_name": "ProgressStyleModel",
      "state": {
       "_model_module": "@jupyter-widgets/controls",
       "_model_module_version": "1.5.0",
       "_model_name": "ProgressStyleModel",
       "_view_count": null,
       "_view_module": "@jupyter-widgets/base",
       "_view_module_version": "1.2.0",
       "_view_name": "StyleView",
       "bar_color": null,
       "description_width": ""
      }
     },
     "cfbb682efd094fd5b00dc51cf1b0ea99": {
      "model_module": "@jupyter-widgets/controls",
      "model_module_version": "1.5.0",
      "model_name": "DescriptionStyleModel",
      "state": {
       "_model_module": "@jupyter-widgets/controls",
       "_model_module_version": "1.5.0",
       "_model_name": "DescriptionStyleModel",
       "_view_count": null,
       "_view_module": "@jupyter-widgets/base",
       "_view_module_version": "1.2.0",
       "_view_name": "StyleView",
       "description_width": ""
      }
     },
     "d128d1ce71514626a3bcd715b07d9160": {
      "model_module": "@jupyter-widgets/controls",
      "model_module_version": "1.5.0",
      "model_name": "DescriptionStyleModel",
      "state": {
       "_model_module": "@jupyter-widgets/controls",
       "_model_module_version": "1.5.0",
       "_model_name": "DescriptionStyleModel",
       "_view_count": null,
       "_view_module": "@jupyter-widgets/base",
       "_view_module_version": "1.2.0",
       "_view_name": "StyleView",
       "description_width": ""
      }
     },
     "d26ceec82cb34d81bec9b530098b3e6d": {
      "model_module": "@jupyter-widgets/controls",
      "model_module_version": "1.5.0",
      "model_name": "DescriptionStyleModel",
      "state": {
       "_model_module": "@jupyter-widgets/controls",
       "_model_module_version": "1.5.0",
       "_model_name": "DescriptionStyleModel",
       "_view_count": null,
       "_view_module": "@jupyter-widgets/base",
       "_view_module_version": "1.2.0",
       "_view_name": "StyleView",
       "description_width": ""
      }
     },
     "e8cf3846ca7c43abb6d5be1579cdb7cf": {
      "model_module": "@jupyter-widgets/base",
      "model_module_version": "1.2.0",
      "model_name": "LayoutModel",
      "state": {
       "_model_module": "@jupyter-widgets/base",
       "_model_module_version": "1.2.0",
       "_model_name": "LayoutModel",
       "_view_count": null,
       "_view_module": "@jupyter-widgets/base",
       "_view_module_version": "1.2.0",
       "_view_name": "LayoutView",
       "align_content": null,
       "align_items": null,
       "align_self": null,
       "border": null,
       "bottom": null,
       "display": null,
       "flex": null,
       "flex_flow": null,
       "grid_area": null,
       "grid_auto_columns": null,
       "grid_auto_flow": null,
       "grid_auto_rows": null,
       "grid_column": null,
       "grid_gap": null,
       "grid_row": null,
       "grid_template_areas": null,
       "grid_template_columns": null,
       "grid_template_rows": null,
       "height": null,
       "justify_content": null,
       "justify_items": null,
       "left": null,
       "margin": null,
       "max_height": null,
       "max_width": null,
       "min_height": null,
       "min_width": null,
       "object_fit": null,
       "object_position": null,
       "order": null,
       "overflow": null,
       "overflow_x": null,
       "overflow_y": null,
       "padding": null,
       "right": null,
       "top": null,
       "visibility": null,
       "width": null
      }
     },
     "edd2ea84df094cde992590022414f40b": {
      "model_module": "@jupyter-widgets/controls",
      "model_module_version": "1.5.0",
      "model_name": "HBoxModel",
      "state": {
       "_dom_classes": [],
       "_model_module": "@jupyter-widgets/controls",
       "_model_module_version": "1.5.0",
       "_model_name": "HBoxModel",
       "_view_count": null,
       "_view_module": "@jupyter-widgets/controls",
       "_view_module_version": "1.5.0",
       "_view_name": "HBoxView",
       "box_style": "",
       "children": [
        "IPY_MODEL_9026c580c43e48fa8fb83a88eb6abb57",
        "IPY_MODEL_0a5b7874d3074594854043c6f6c9005b",
        "IPY_MODEL_4b867e5390334bf99d30ed3619d99271"
       ],
       "layout": "IPY_MODEL_5fb2bad87de74bf495312dbc8aab013b"
      }
     },
     "f90e89947bf94021a777026d8efeecd9": {
      "model_module": "@jupyter-widgets/base",
      "model_module_version": "1.2.0",
      "model_name": "LayoutModel",
      "state": {
       "_model_module": "@jupyter-widgets/base",
       "_model_module_version": "1.2.0",
       "_model_name": "LayoutModel",
       "_view_count": null,
       "_view_module": "@jupyter-widgets/base",
       "_view_module_version": "1.2.0",
       "_view_name": "LayoutView",
       "align_content": null,
       "align_items": null,
       "align_self": null,
       "border": null,
       "bottom": null,
       "display": null,
       "flex": null,
       "flex_flow": null,
       "grid_area": null,
       "grid_auto_columns": null,
       "grid_auto_flow": null,
       "grid_auto_rows": null,
       "grid_column": null,
       "grid_gap": null,
       "grid_row": null,
       "grid_template_areas": null,
       "grid_template_columns": null,
       "grid_template_rows": null,
       "height": null,
       "justify_content": null,
       "justify_items": null,
       "left": null,
       "margin": null,
       "max_height": null,
       "max_width": null,
       "min_height": null,
       "min_width": null,
       "object_fit": null,
       "object_position": null,
       "order": null,
       "overflow": null,
       "overflow_x": null,
       "overflow_y": null,
       "padding": null,
       "right": null,
       "top": null,
       "visibility": null,
       "width": null
      }
     }
    },
    "version_major": 2,
    "version_minor": 0
   }
  }
 },
 "nbformat": 4,
 "nbformat_minor": 5
}
