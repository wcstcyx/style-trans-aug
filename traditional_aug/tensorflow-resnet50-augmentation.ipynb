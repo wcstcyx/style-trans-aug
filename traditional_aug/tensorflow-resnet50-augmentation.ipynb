{
 "cells": [
  {
   "cell_type": "code",
   "execution_count": 1,
   "id": "0524f663",
   "metadata": {
    "execution": {
     "iopub.execute_input": "2022-11-13T02:48:48.078755Z",
     "iopub.status.busy": "2022-11-13T02:48:48.078155Z",
     "iopub.status.idle": "2022-11-13T02:48:59.650679Z",
     "shell.execute_reply": "2022-11-13T02:48:59.649393Z"
    },
    "papermill": {
     "duration": 11.582691,
     "end_time": "2022-11-13T02:48:59.653789",
     "exception": false,
     "start_time": "2022-11-13T02:48:48.071098",
     "status": "completed"
    },
    "tags": []
   },
   "outputs": [
    {
     "name": "stdout",
     "output_type": "stream",
     "text": [
      "Downloading data from https://www.cs.toronto.edu/~kriz/cifar-10-python.tar.gz\n",
      "170500096/170498071 [==============================] - 4s 0us/step\n",
      "170508288/170498071 [==============================] - 4s 0us/step\n"
     ]
    }
   ],
   "source": [
    "import tensorflow as tf\n",
    "cifar10 = tf.keras.datasets.cifar10\n",
    "(x_train, y_train), (x_test, y_test) = cifar10.load_data()\n",
    "\n",
    "from tensorflow.keras.utils import to_categorical\n",
    "y_train = to_categorical(y_train)\n",
    "y_test = to_categorical(y_test)\n"
   ]
  },
  {
   "cell_type": "code",
   "execution_count": 2,
   "id": "377f2f33",
   "metadata": {
    "execution": {
     "iopub.execute_input": "2022-11-13T02:48:59.672382Z",
     "iopub.status.busy": "2022-11-13T02:48:59.671772Z",
     "iopub.status.idle": "2022-11-13T02:49:00.619869Z",
     "shell.execute_reply": "2022-11-13T02:49:00.618819Z"
    },
    "papermill": {
     "duration": 0.960143,
     "end_time": "2022-11-13T02:49:00.622575",
     "exception": false,
     "start_time": "2022-11-13T02:48:59.662432",
     "status": "completed"
    },
    "tags": []
   },
   "outputs": [],
   "source": [
    "from sklearn.model_selection import train_test_split\n",
    "\n",
    "x_train, x_val, y_train, y_val = train_test_split(x_train,y_train,test_size=0.2, random_state=42)"
   ]
  },
  {
   "cell_type": "code",
   "execution_count": 3,
   "id": "2a508738",
   "metadata": {
    "execution": {
     "iopub.execute_input": "2022-11-13T02:49:00.642512Z",
     "iopub.status.busy": "2022-11-13T02:49:00.641414Z",
     "iopub.status.idle": "2022-11-13T02:49:01.685388Z",
     "shell.execute_reply": "2022-11-13T02:49:01.684284Z"
    },
    "papermill": {
     "duration": 1.057276,
     "end_time": "2022-11-13T02:49:01.688362",
     "exception": false,
     "start_time": "2022-11-13T02:49:00.631086",
     "status": "completed"
    },
    "tags": []
   },
   "outputs": [],
   "source": [
    "import albumentations as albu\n",
    "\n",
    "\n",
    "def augment_image(augmentation, image):\n",
    "    \n",
    "    \"\"\"\n",
    "    Uses the Albumentations library.\n",
    "    \n",
    "    Inputs: \n",
    "    1. augmentation - this is the instance of type of augmentation to do \n",
    "    e.g. aug_type = HorizontalFlip(p=1) \n",
    "    # p=1 is the probability of the transform being executed.\n",
    "    \n",
    "    2. image - image with shape (h,w)\n",
    "    \n",
    "    Output:\n",
    "    Augmented image as a numpy array.\n",
    "    \n",
    "    \"\"\"\n",
    "    # get the transform as a dict\n",
    "    aug_image_dict =  augmentation(image=image)\n",
    "    # retrieve the augmented matrix of the image\n",
    "    image_matrix = aug_image_dict['image']\n",
    "    return image_matrix"
   ]
  },
  {
   "cell_type": "code",
   "execution_count": 4,
   "id": "b4cfcf80",
   "metadata": {
    "execution": {
     "iopub.execute_input": "2022-11-13T02:49:01.705693Z",
     "iopub.status.busy": "2022-11-13T02:49:01.705324Z",
     "iopub.status.idle": "2022-11-13T02:49:01.714914Z",
     "shell.execute_reply": "2022-11-13T02:49:01.713979Z"
    },
    "papermill": {
     "duration": 0.02079,
     "end_time": "2022-11-13T02:49:01.717187",
     "exception": false,
     "start_time": "2022-11-13T02:49:01.696397",
     "status": "completed"
    },
    "tags": []
   },
   "outputs": [],
   "source": [
    "aug_types1 = albu.ShiftScaleRotate(shift_limit=0.0625, scale_limit=0.1, rotate_limit=45, \n",
    "                  interpolation=1, border_mode=4, value=None, mask_value=None, \n",
    "                  shift_limit_x=None, shift_limit_y=None, always_apply=False, \n",
    "                  p=1)\n",
    "\n",
    "aug_types2 = albu.Flip(p=1)\n",
    "\n",
    "aug_types3 = albu.ShiftScaleRotate(shift_limit=0.0625, scale_limit=0.1, rotate_limit=20, \n",
    "                  interpolation=1, border_mode=4, value=None, mask_value=None, \n",
    "                  shift_limit_x=None, shift_limit_y=None, always_apply=False, \n",
    "                  p=1)\n",
    "\n",
    "aug_types4 = albu.Blur(blur_limit=(3,3.5), always_apply=False, p=1)\n",
    "\n",
    "aug_types5 = albu.OneOf([\n",
    "                albu.ElasticTransform(alpha=1, sigma=50, alpha_affine=50,\n",
    "                                       interpolation=1, border_mode=4, value=None,mask_value=None,\n",
    "                                       always_apply=False, approximate=False, p=1),\n",
    "                albu.GridDistortion(num_steps=5, distort_limit=0.3, interpolation=1, border_mode=4, \n",
    "                                 value=None, mask_value=None, always_apply=False, p=1)\n",
    "                        ], p=1)"
   ]
  },
  {
   "cell_type": "code",
   "execution_count": 5,
   "id": "92e63237",
   "metadata": {
    "execution": {
     "iopub.execute_input": "2022-11-13T02:49:01.735185Z",
     "iopub.status.busy": "2022-11-13T02:49:01.734577Z",
     "iopub.status.idle": "2022-11-13T02:49:01.739647Z",
     "shell.execute_reply": "2022-11-13T02:49:01.738638Z"
    },
    "papermill": {
     "duration": 0.016245,
     "end_time": "2022-11-13T02:49:01.741910",
     "exception": false,
     "start_time": "2022-11-13T02:49:01.725665",
     "status": "completed"
    },
    "tags": []
   },
   "outputs": [],
   "source": [
    "import numpy as np\n",
    "X_train = np.zeros((6*len(x_train),32,32,3))"
   ]
  },
  {
   "cell_type": "code",
   "execution_count": 6,
   "id": "aeb8cdf2",
   "metadata": {
    "execution": {
     "iopub.execute_input": "2022-11-13T02:49:01.759523Z",
     "iopub.status.busy": "2022-11-13T02:49:01.758914Z",
     "iopub.status.idle": "2022-11-13T02:50:35.263414Z",
     "shell.execute_reply": "2022-11-13T02:50:35.262188Z"
    },
    "papermill": {
     "duration": 93.516428,
     "end_time": "2022-11-13T02:50:35.266456",
     "exception": false,
     "start_time": "2022-11-13T02:49:01.750028",
     "status": "completed"
    },
    "tags": []
   },
   "outputs": [],
   "source": [
    "for i in range(len(x_train)): \n",
    "  image=x_train[i]\n",
    "  X_train[i]=image\n",
    "  X_train[i+1*len(x_train)] = augment_image(aug_types1, image)\n",
    "  X_train[i+2*len(x_train)] = augment_image(aug_types2, image)\n",
    "  X_train[i+3*len(x_train)] = augment_image(aug_types3, image)\n",
    "  X_train[i+4*len(x_train)] = augment_image(aug_types4, image)\n",
    "  X_train[i+5*len(x_train)] = augment_image(aug_types5, image)\n",
    "                "
   ]
  },
  {
   "cell_type": "code",
   "execution_count": 7,
   "id": "f3c1f60a",
   "metadata": {
    "execution": {
     "iopub.execute_input": "2022-11-13T02:50:35.286629Z",
     "iopub.status.busy": "2022-11-13T02:50:35.285932Z",
     "iopub.status.idle": "2022-11-13T02:50:35.293491Z",
     "shell.execute_reply": "2022-11-13T02:50:35.292521Z"
    },
    "papermill": {
     "duration": 0.020524,
     "end_time": "2022-11-13T02:50:35.295879",
     "exception": false,
     "start_time": "2022-11-13T02:50:35.275355",
     "status": "completed"
    },
    "tags": []
   },
   "outputs": [],
   "source": [
    "import pandas as pd\n",
    "y_train = np.concatenate([y_train, y_train, y_train, y_train, y_train, y_train],axis=0)"
   ]
  },
  {
   "cell_type": "code",
   "execution_count": 8,
   "id": "af2eb059",
   "metadata": {
    "execution": {
     "iopub.execute_input": "2022-11-13T02:50:35.312927Z",
     "iopub.status.busy": "2022-11-13T02:50:35.312624Z",
     "iopub.status.idle": "2022-11-13T02:50:35.318720Z",
     "shell.execute_reply": "2022-11-13T02:50:35.317772Z"
    },
    "papermill": {
     "duration": 0.017191,
     "end_time": "2022-11-13T02:50:35.320863",
     "exception": false,
     "start_time": "2022-11-13T02:50:35.303672",
     "status": "completed"
    },
    "tags": []
   },
   "outputs": [],
   "source": [
    "from tensorflow.keras.applications.resnet50 import ResNet50\n",
    "def preprocess_image_input(input_images):\n",
    "  input_images = input_images.astype('float32')\n",
    "  output_ims = tf.keras.applications.resnet50.preprocess_input(input_images)\n",
    "  return output_ims\n"
   ]
  },
  {
   "cell_type": "code",
   "execution_count": 9,
   "id": "47becaa9",
   "metadata": {
    "execution": {
     "iopub.execute_input": "2022-11-13T02:50:35.337868Z",
     "iopub.status.busy": "2022-11-13T02:50:35.336963Z",
     "iopub.status.idle": "2022-11-13T02:50:37.598382Z",
     "shell.execute_reply": "2022-11-13T02:50:37.597302Z"
    },
    "papermill": {
     "duration": 2.272777,
     "end_time": "2022-11-13T02:50:37.601127",
     "exception": false,
     "start_time": "2022-11-13T02:50:35.328350",
     "status": "completed"
    },
    "tags": []
   },
   "outputs": [],
   "source": [
    "x_train = preprocess_image_input(X_train)\n",
    "x_val = preprocess_image_input(x_val)\n",
    "x_test = preprocess_image_input(x_test)"
   ]
  },
  {
   "cell_type": "code",
   "execution_count": 10,
   "id": "47c0b1b9",
   "metadata": {
    "execution": {
     "iopub.execute_input": "2022-11-13T02:50:37.619675Z",
     "iopub.status.busy": "2022-11-13T02:50:37.619306Z",
     "iopub.status.idle": "2022-11-13T02:50:43.076661Z",
     "shell.execute_reply": "2022-11-13T02:50:43.075333Z"
    },
    "papermill": {
     "duration": 5.470031,
     "end_time": "2022-11-13T02:50:43.079802",
     "exception": false,
     "start_time": "2022-11-13T02:50:37.609771",
     "status": "completed"
    },
    "tags": []
   },
   "outputs": [
    {
     "name": "stderr",
     "output_type": "stream",
     "text": [
      "2022-11-13 02:50:37.765907: I tensorflow/stream_executor/cuda/cuda_gpu_executor.cc:937] successful NUMA node read from SysFS had negative value (-1), but there must be at least one NUMA node, so returning NUMA node zero\n",
      "2022-11-13 02:50:37.889665: I tensorflow/stream_executor/cuda/cuda_gpu_executor.cc:937] successful NUMA node read from SysFS had negative value (-1), but there must be at least one NUMA node, so returning NUMA node zero\n",
      "2022-11-13 02:50:37.890619: I tensorflow/stream_executor/cuda/cuda_gpu_executor.cc:937] successful NUMA node read from SysFS had negative value (-1), but there must be at least one NUMA node, so returning NUMA node zero\n",
      "2022-11-13 02:50:37.892564: I tensorflow/core/platform/cpu_feature_guard.cc:142] This TensorFlow binary is optimized with oneAPI Deep Neural Network Library (oneDNN) to use the following CPU instructions in performance-critical operations:  AVX2 AVX512F FMA\n",
      "To enable them in other operations, rebuild TensorFlow with the appropriate compiler flags.\n",
      "2022-11-13 02:50:37.892918: I tensorflow/stream_executor/cuda/cuda_gpu_executor.cc:937] successful NUMA node read from SysFS had negative value (-1), but there must be at least one NUMA node, so returning NUMA node zero\n",
      "2022-11-13 02:50:37.893701: I tensorflow/stream_executor/cuda/cuda_gpu_executor.cc:937] successful NUMA node read from SysFS had negative value (-1), but there must be at least one NUMA node, so returning NUMA node zero\n",
      "2022-11-13 02:50:37.894421: I tensorflow/stream_executor/cuda/cuda_gpu_executor.cc:937] successful NUMA node read from SysFS had negative value (-1), but there must be at least one NUMA node, so returning NUMA node zero\n",
      "2022-11-13 02:50:40.211833: I tensorflow/stream_executor/cuda/cuda_gpu_executor.cc:937] successful NUMA node read from SysFS had negative value (-1), but there must be at least one NUMA node, so returning NUMA node zero\n",
      "2022-11-13 02:50:40.212779: I tensorflow/stream_executor/cuda/cuda_gpu_executor.cc:937] successful NUMA node read from SysFS had negative value (-1), but there must be at least one NUMA node, so returning NUMA node zero\n",
      "2022-11-13 02:50:40.213523: I tensorflow/stream_executor/cuda/cuda_gpu_executor.cc:937] successful NUMA node read from SysFS had negative value (-1), but there must be at least one NUMA node, so returning NUMA node zero\n",
      "2022-11-13 02:50:40.215222: I tensorflow/core/common_runtime/gpu/gpu_device.cc:1510] Created device /job:localhost/replica:0/task:0/device:GPU:0 with 15401 MB memory:  -> device: 0, name: Tesla P100-PCIE-16GB, pci bus id: 0000:00:04.0, compute capability: 6.0\n"
     ]
    },
    {
     "name": "stdout",
     "output_type": "stream",
     "text": [
      "Downloading data from https://storage.googleapis.com/tensorflow/keras-applications/resnet/resnet50_weights_tf_dim_ordering_tf_kernels_notop.h5\n",
      "94773248/94765736 [==============================] - 1s 0us/step\n",
      "94781440/94765736 [==============================] - 1s 0us/step\n",
      "Model: \"model\"\n",
      "_________________________________________________________________\n",
      "Layer (type)                 Output Shape              Param #   \n",
      "=================================================================\n",
      "input_1 (InputLayer)         [(None, 32, 32, 3)]       0         \n",
      "_________________________________________________________________\n",
      "up_sampling2d (UpSampling2D) (None, 224, 224, 3)       0         \n",
      "_________________________________________________________________\n",
      "resnet50 (Functional)        (None, 7, 7, 2048)        23587712  \n",
      "_________________________________________________________________\n",
      "global_average_pooling2d (Gl (None, 2048)              0         \n",
      "_________________________________________________________________\n",
      "flatten (Flatten)            (None, 2048)              0         \n",
      "_________________________________________________________________\n",
      "dense (Dense)                (None, 1024)              2098176   \n",
      "_________________________________________________________________\n",
      "dense_1 (Dense)              (None, 512)               524800    \n",
      "_________________________________________________________________\n",
      "classification (Dense)       (None, 10)                5130      \n",
      "=================================================================\n",
      "Total params: 26,215,818\n",
      "Trainable params: 26,162,698\n",
      "Non-trainable params: 53,120\n",
      "_________________________________________________________________\n"
     ]
    }
   ],
   "source": [
    "'''\n",
    "Feature Extraction is performed by ResNet50 pretrained on imagenet weights. \n",
    "Input size is 224 x 224.\n",
    "'''\n",
    "def feature_extractor(inputs):\n",
    "\n",
    "  feature_extractor = tf.keras.applications.resnet.ResNet50(input_shape=(224, 224, 3),\n",
    "                                               include_top=False,\n",
    "                                               weights='imagenet')(inputs)\n",
    "  return feature_extractor\n",
    "\n",
    "\n",
    "'''\n",
    "Defines final dense layers and subsequent softmax layer for classification.\n",
    "'''\n",
    "def classifier(inputs):\n",
    "    x = tf.keras.layers.GlobalAveragePooling2D()(inputs)\n",
    "    x = tf.keras.layers.Flatten()(x)\n",
    "    x = tf.keras.layers.Dense(1024, activation=\"relu\")(x)\n",
    "    x = tf.keras.layers.Dense(512, activation=\"relu\")(x)\n",
    "    x = tf.keras.layers.Dense(10, activation=\"softmax\", name=\"classification\")(x)\n",
    "    return x\n",
    "\n",
    "'''\n",
    "Since input image size is (32 x 32), first upsample the image by factor of (7x7) to transform it to (224 x 224)\n",
    "Connect the feature extraction and \"classifier\" layers to build the model.\n",
    "'''\n",
    "def final_model(inputs):\n",
    "\n",
    "    resize = tf.keras.layers.UpSampling2D(size=(7,7))(inputs)\n",
    "\n",
    "    resnet_feature_extractor = feature_extractor(resize)\n",
    "    classification_output = classifier(resnet_feature_extractor)\n",
    "\n",
    "    return classification_output\n",
    "\n",
    "'''\n",
    "Define the model and compile it. \n",
    "Use Stochastic Gradient Descent as the optimizer.\n",
    "Use Sparse Categorical CrossEntropy as the loss function.\n",
    "'''\n",
    "def define_compile_model():\n",
    "  inputs = tf.keras.layers.Input(shape=(32,32,3))\n",
    "  \n",
    "  classification_output = final_model(inputs) \n",
    "  model = tf.keras.Model(inputs=inputs, outputs = classification_output)\n",
    "  initial_learning_rate =0.1\n",
    "  lr_schedule = tf.keras.optimizers.schedules.ExponentialDecay(\n",
    "    initial_learning_rate,\n",
    "    decay_steps=100000,\n",
    "    decay_rate=0.96,\n",
    "    staircase=True)\n",
    " \n",
    "  model.compile(optimizer=tf.keras.optimizers.SGD(learning_rate=lr_schedule),\n",
    "              loss='categorical_crossentropy',\n",
    "              metrics=['accuracy'])\n",
    "  \n",
    "  return model\n",
    "\n",
    "\n",
    "model = define_compile_model()\n",
    "\n",
    "model.summary()"
   ]
  },
  {
   "cell_type": "code",
   "execution_count": 11,
   "id": "c105c095",
   "metadata": {
    "execution": {
     "iopub.execute_input": "2022-11-13T02:50:43.100563Z",
     "iopub.status.busy": "2022-11-13T02:50:43.099629Z",
     "iopub.status.idle": "2022-11-13T02:50:50.190839Z",
     "shell.execute_reply": "2022-11-13T02:50:50.186756Z"
    },
    "papermill": {
     "duration": 7.108572,
     "end_time": "2022-11-13T02:50:50.198482",
     "exception": false,
     "start_time": "2022-11-13T02:50:43.089910",
     "status": "completed"
    },
    "tags": []
   },
   "outputs": [],
   "source": [
    "from keras.preprocessing.image import ImageDataGenerator\n",
    "datagen = ImageDataGenerator(\n",
    "    rescale=1./255)\n",
    "\n",
    "datagen.fit(x_train)\n",
    "datagen.fit(x_val)\n",
    "datagen.fit(x_test)"
   ]
  },
  {
   "cell_type": "code",
   "execution_count": 12,
   "id": "aa880c8c",
   "metadata": {
    "execution": {
     "iopub.execute_input": "2022-11-13T02:50:50.229587Z",
     "iopub.status.busy": "2022-11-13T02:50:50.228695Z",
     "iopub.status.idle": "2022-11-13T07:43:35.418586Z",
     "shell.execute_reply": "2022-11-13T07:43:35.417341Z"
    },
    "papermill": {
     "duration": 17565.208358,
     "end_time": "2022-11-13T07:43:35.420775",
     "exception": false,
     "start_time": "2022-11-13T02:50:50.212417",
     "status": "completed"
    },
    "tags": []
   },
   "outputs": [
    {
     "name": "stderr",
     "output_type": "stream",
     "text": [
      "2022-11-13 02:50:50.560197: I tensorflow/compiler/mlir/mlir_graph_optimization_pass.cc:185] None of the MLIR Optimization Passes are enabled (registered 2)\n"
     ]
    },
    {
     "name": "stdout",
     "output_type": "stream",
     "text": [
      "Epoch 1/30\n"
     ]
    },
    {
     "name": "stderr",
     "output_type": "stream",
     "text": [
      "2022-11-13 02:50:56.338263: I tensorflow/stream_executor/cuda/cuda_dnn.cc:369] Loaded cuDNN version 8005\n"
     ]
    },
    {
     "name": "stdout",
     "output_type": "stream",
     "text": [
      "7500/7500 [==============================] - 1254s 166ms/step - loss: 0.5880 - accuracy: 0.7971 - val_loss: 0.3227 - val_accuracy: 0.8913\n",
      "\n",
      "Epoch 00001: val_accuracy improved from -inf to 0.89130, saving model to best_model5.h5\n",
      "Epoch 2/30\n",
      "7500/7500 [==============================] - 1241s 166ms/step - loss: 0.3243 - accuracy: 0.8866 - val_loss: 0.2236 - val_accuracy: 0.9287\n",
      "\n",
      "Epoch 00002: val_accuracy improved from 0.89130 to 0.92870, saving model to best_model5.h5\n",
      "Epoch 3/30\n",
      "7500/7500 [==============================] - 1243s 166ms/step - loss: 0.2376 - accuracy: 0.9167 - val_loss: 0.2216 - val_accuracy: 0.9365\n",
      "\n",
      "Epoch 00003: val_accuracy improved from 0.92870 to 0.93650, saving model to best_model5.h5\n",
      "Epoch 4/30\n",
      "7500/7500 [==============================] - 1243s 166ms/step - loss: 0.1919 - accuracy: 0.9326 - val_loss: 0.2183 - val_accuracy: 0.9396\n",
      "\n",
      "Epoch 00004: val_accuracy improved from 0.93650 to 0.93960, saving model to best_model5.h5\n",
      "Epoch 5/30\n",
      "7500/7500 [==============================] - 1243s 166ms/step - loss: 0.1605 - accuracy: 0.9435 - val_loss: 0.2203 - val_accuracy: 0.9384\n",
      "\n",
      "Epoch 00005: val_accuracy did not improve from 0.93960\n",
      "Epoch 6/30\n",
      "7500/7500 [==============================] - 1243s 166ms/step - loss: 0.1396 - accuracy: 0.9512 - val_loss: 0.2231 - val_accuracy: 0.9437\n",
      "\n",
      "Epoch 00006: val_accuracy improved from 0.93960 to 0.94370, saving model to best_model5.h5\n",
      "Epoch 7/30\n",
      "7500/7500 [==============================] - 1245s 166ms/step - loss: 0.1195 - accuracy: 0.9581 - val_loss: 0.2469 - val_accuracy: 0.9411\n",
      "\n",
      "Epoch 00007: val_accuracy did not improve from 0.94370\n",
      "Epoch 8/30\n",
      "7500/7500 [==============================] - 1245s 166ms/step - loss: 0.1006 - accuracy: 0.9649 - val_loss: 0.2503 - val_accuracy: 0.9452\n",
      "\n",
      "Epoch 00008: val_accuracy improved from 0.94370 to 0.94520, saving model to best_model5.h5\n",
      "Epoch 9/30\n",
      "7500/7500 [==============================] - 1245s 166ms/step - loss: 0.0833 - accuracy: 0.9712 - val_loss: 0.2688 - val_accuracy: 0.9358\n",
      "\n",
      "Epoch 00009: val_accuracy did not improve from 0.94520\n",
      "Epoch 10/30\n",
      "7500/7500 [==============================] - 1245s 166ms/step - loss: 0.0686 - accuracy: 0.9762 - val_loss: 0.2574 - val_accuracy: 0.9425\n",
      "\n",
      "Epoch 00010: val_accuracy did not improve from 0.94520\n",
      "Epoch 11/30\n",
      "7500/7500 [==============================] - 1243s 166ms/step - loss: 0.0571 - accuracy: 0.9805 - val_loss: 0.2579 - val_accuracy: 0.9425\n",
      "\n",
      "Epoch 00011: val_accuracy did not improve from 0.94520\n",
      "Epoch 12/30\n",
      "7500/7500 [==============================] - 1242s 166ms/step - loss: 0.0466 - accuracy: 0.9840 - val_loss: 0.2663 - val_accuracy: 0.9416\n",
      "\n",
      "Epoch 00012: val_accuracy did not improve from 0.94520\n",
      "Epoch 13/30\n",
      "7500/7500 [==============================] - 1242s 166ms/step - loss: 0.0378 - accuracy: 0.9871 - val_loss: 0.3088 - val_accuracy: 0.9391\n",
      "\n",
      "Epoch 00013: val_accuracy did not improve from 0.94520\n",
      "Epoch 14/30\n",
      "7500/7500 [==============================] - 1241s 166ms/step - loss: 0.0304 - accuracy: 0.9897 - val_loss: 0.2940 - val_accuracy: 0.9409\n",
      "\n",
      "Epoch 00014: val_accuracy did not improve from 0.94520\n",
      "Epoch 00014: early stopping\n"
     ]
    }
   ],
   "source": [
    "from keras.callbacks import EarlyStopping, ModelCheckpoint\n",
    "earlystop = EarlyStopping(monitor='val_loss',\n",
    "                          min_delta=0,\n",
    "                          patience=10,\n",
    "                          verbose=1)    \n",
    "\n",
    "mc = ModelCheckpoint(filepath='best_model5.h5',\n",
    "                     monitor='val_accuracy',\n",
    "                     mode='max',\n",
    "                     verbose=1,\n",
    "                     save_weights_only=True,\n",
    "                    save_best_only=True)\n",
    "# fit the model\n",
    "history =model.fit(datagen.flow(x_train, y_train, batch_size=32),\n",
    "         \n",
    "          epochs=30, verbose=1, validation_data=datagen.flow(x_val, y_val,\n",
    "         batch_size=8), callbacks=[mc, earlystop])"
   ]
  },
  {
   "cell_type": "code",
   "execution_count": 13,
   "id": "8372e50a",
   "metadata": {
    "execution": {
     "iopub.execute_input": "2022-11-13T07:43:48.347220Z",
     "iopub.status.busy": "2022-11-13T07:43:48.346826Z",
     "iopub.status.idle": "2022-11-13T07:44:08.283465Z",
     "shell.execute_reply": "2022-11-13T07:44:08.282425Z"
    },
    "papermill": {
     "duration": 26.463352,
     "end_time": "2022-11-13T07:44:08.285662",
     "exception": false,
     "start_time": "2022-11-13T07:43:41.822310",
     "status": "completed"
    },
    "tags": []
   },
   "outputs": [
    {
     "name": "stdout",
     "output_type": "stream",
     "text": [
      "313/313 - 18s - loss: 0.2696 - accuracy: 0.9413\n",
      " Test_loss: 0.270 test_accuracy:0.941\n"
     ]
    }
   ],
   "source": [
    "model = define_compile_model()\n",
    "model.load_weights('best_model5.h5')\n",
    "test_loss, test_acc = model.evaluate(datagen.flow(x_test, y_test, batch_size=32), verbose=2)\n",
    "print(' Test_loss: %.3f test_accuracy:%.3f' % (test_loss, test_acc))"
   ]
  }
 ],
 "metadata": {
  "kernelspec": {
   "display_name": "Python 3",
   "language": "python",
   "name": "python3"
  },
  "language_info": {
   "codemirror_mode": {
    "name": "ipython",
    "version": 3
   },
   "file_extension": ".py",
   "mimetype": "text/x-python",
   "name": "python",
   "nbconvert_exporter": "python",
   "pygments_lexer": "ipython3",
   "version": "3.7.12"
  },
  "papermill": {
   "default_parameters": {},
   "duration": 17738.799301,
   "end_time": "2022-11-13T07:44:18.105018",
   "environment_variables": {},
   "exception": null,
   "input_path": "__notebook__.ipynb",
   "output_path": "__notebook__.ipynb",
   "parameters": {},
   "start_time": "2022-11-13T02:48:39.305717",
   "version": "2.3.4"
  }
 },
 "nbformat": 4,
 "nbformat_minor": 5
}
